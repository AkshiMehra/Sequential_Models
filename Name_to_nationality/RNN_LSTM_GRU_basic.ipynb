{
  "nbformat": 4,
  "nbformat_minor": 0,
  "metadata": {
    "accelerator": "GPU",
    "colab": {
      "name": "LSTM's_GRU's.ipynb",
      "provenance": [],
      "collapsed_sections": []
    },
    "kernelspec": {
      "display_name": "Python 3",
      "name": "python3"
    },
    "widgets": {
      "application/vnd.jupyter.widget-state+json": {
        "99092aa9eb8b4c77a182f88e63444a91": {
          "model_module": "@jupyter-widgets/controls",
          "model_name": "HBoxModel",
          "state": {
            "_view_name": "HBoxView",
            "_dom_classes": [],
            "_model_name": "HBoxModel",
            "_view_module": "@jupyter-widgets/controls",
            "_model_module_version": "1.5.0",
            "_view_count": null,
            "_view_module_version": "1.5.0",
            "box_style": "",
            "layout": "IPY_MODEL_2239eacc55304a70a4100114c0b4ac0b",
            "_model_module": "@jupyter-widgets/controls",
            "children": [
              "IPY_MODEL_7ba995f309094dad9c09133ee6054d1f",
              "IPY_MODEL_f89886718f3a4e09a61d1f3a337dca20"
            ]
          }
        },
        "2239eacc55304a70a4100114c0b4ac0b": {
          "model_module": "@jupyter-widgets/base",
          "model_name": "LayoutModel",
          "state": {
            "_view_name": "LayoutView",
            "grid_template_rows": null,
            "right": null,
            "justify_content": null,
            "_view_module": "@jupyter-widgets/base",
            "overflow": null,
            "_model_module_version": "1.2.0",
            "_view_count": null,
            "flex_flow": null,
            "width": null,
            "min_width": null,
            "border": null,
            "align_items": null,
            "bottom": null,
            "_model_module": "@jupyter-widgets/base",
            "top": null,
            "grid_column": null,
            "overflow_y": null,
            "overflow_x": null,
            "grid_auto_flow": null,
            "grid_area": null,
            "grid_template_columns": null,
            "flex": null,
            "_model_name": "LayoutModel",
            "justify_items": null,
            "grid_row": null,
            "max_height": null,
            "align_content": null,
            "visibility": null,
            "align_self": null,
            "height": null,
            "min_height": null,
            "padding": null,
            "grid_auto_rows": null,
            "grid_gap": null,
            "max_width": null,
            "order": null,
            "_view_module_version": "1.2.0",
            "grid_template_areas": null,
            "object_position": null,
            "object_fit": null,
            "grid_auto_columns": null,
            "margin": null,
            "display": null,
            "left": null
          }
        },
        "7ba995f309094dad9c09133ee6054d1f": {
          "model_module": "@jupyter-widgets/controls",
          "model_name": "FloatProgressModel",
          "state": {
            "_view_name": "ProgressView",
            "style": "IPY_MODEL_7a8239ce4d3a4d548d5b315577562f0c",
            "_dom_classes": [],
            "description": "100%",
            "_model_name": "FloatProgressModel",
            "bar_style": "success",
            "max": 500,
            "_view_module": "@jupyter-widgets/controls",
            "_model_module_version": "1.5.0",
            "value": 500,
            "_view_count": null,
            "_view_module_version": "1.5.0",
            "orientation": "horizontal",
            "min": 0,
            "description_tooltip": null,
            "_model_module": "@jupyter-widgets/controls",
            "layout": "IPY_MODEL_05b156f77aae457bbee5e1fa304683ff"
          }
        },
        "f89886718f3a4e09a61d1f3a337dca20": {
          "model_module": "@jupyter-widgets/controls",
          "model_name": "HTMLModel",
          "state": {
            "_view_name": "HTMLView",
            "style": "IPY_MODEL_447452cbfdf14e36afd5fe5c6b89568f",
            "_dom_classes": [],
            "description": "",
            "_model_name": "HTMLModel",
            "placeholder": "​",
            "_view_module": "@jupyter-widgets/controls",
            "_model_module_version": "1.5.0",
            "value": " 500/500 [04:47&lt;00:00,  1.74batch/s]",
            "_view_count": null,
            "_view_module_version": "1.5.0",
            "description_tooltip": null,
            "_model_module": "@jupyter-widgets/controls",
            "layout": "IPY_MODEL_450718585e414c51b2e6ef733891810b"
          }
        },
        "7a8239ce4d3a4d548d5b315577562f0c": {
          "model_module": "@jupyter-widgets/controls",
          "model_name": "ProgressStyleModel",
          "state": {
            "_view_name": "StyleView",
            "_model_name": "ProgressStyleModel",
            "description_width": "initial",
            "_view_module": "@jupyter-widgets/base",
            "_model_module_version": "1.5.0",
            "_view_count": null,
            "_view_module_version": "1.2.0",
            "bar_color": null,
            "_model_module": "@jupyter-widgets/controls"
          }
        },
        "05b156f77aae457bbee5e1fa304683ff": {
          "model_module": "@jupyter-widgets/base",
          "model_name": "LayoutModel",
          "state": {
            "_view_name": "LayoutView",
            "grid_template_rows": null,
            "right": null,
            "justify_content": null,
            "_view_module": "@jupyter-widgets/base",
            "overflow": null,
            "_model_module_version": "1.2.0",
            "_view_count": null,
            "flex_flow": null,
            "width": null,
            "min_width": null,
            "border": null,
            "align_items": null,
            "bottom": null,
            "_model_module": "@jupyter-widgets/base",
            "top": null,
            "grid_column": null,
            "overflow_y": null,
            "overflow_x": null,
            "grid_auto_flow": null,
            "grid_area": null,
            "grid_template_columns": null,
            "flex": null,
            "_model_name": "LayoutModel",
            "justify_items": null,
            "grid_row": null,
            "max_height": null,
            "align_content": null,
            "visibility": null,
            "align_self": null,
            "height": null,
            "min_height": null,
            "padding": null,
            "grid_auto_rows": null,
            "grid_gap": null,
            "max_width": null,
            "order": null,
            "_view_module_version": "1.2.0",
            "grid_template_areas": null,
            "object_position": null,
            "object_fit": null,
            "grid_auto_columns": null,
            "margin": null,
            "display": null,
            "left": null
          }
        },
        "447452cbfdf14e36afd5fe5c6b89568f": {
          "model_module": "@jupyter-widgets/controls",
          "model_name": "DescriptionStyleModel",
          "state": {
            "_view_name": "StyleView",
            "_model_name": "DescriptionStyleModel",
            "description_width": "",
            "_view_module": "@jupyter-widgets/base",
            "_model_module_version": "1.5.0",
            "_view_count": null,
            "_view_module_version": "1.2.0",
            "_model_module": "@jupyter-widgets/controls"
          }
        },
        "450718585e414c51b2e6ef733891810b": {
          "model_module": "@jupyter-widgets/base",
          "model_name": "LayoutModel",
          "state": {
            "_view_name": "LayoutView",
            "grid_template_rows": null,
            "right": null,
            "justify_content": null,
            "_view_module": "@jupyter-widgets/base",
            "overflow": null,
            "_model_module_version": "1.2.0",
            "_view_count": null,
            "flex_flow": null,
            "width": null,
            "min_width": null,
            "border": null,
            "align_items": null,
            "bottom": null,
            "_model_module": "@jupyter-widgets/base",
            "top": null,
            "grid_column": null,
            "overflow_y": null,
            "overflow_x": null,
            "grid_auto_flow": null,
            "grid_area": null,
            "grid_template_columns": null,
            "flex": null,
            "_model_name": "LayoutModel",
            "justify_items": null,
            "grid_row": null,
            "max_height": null,
            "align_content": null,
            "visibility": null,
            "align_self": null,
            "height": null,
            "min_height": null,
            "padding": null,
            "grid_auto_rows": null,
            "grid_gap": null,
            "max_width": null,
            "order": null,
            "_view_module_version": "1.2.0",
            "grid_template_areas": null,
            "object_position": null,
            "object_fit": null,
            "grid_auto_columns": null,
            "margin": null,
            "display": null,
            "left": null
          }
        },
        "95e73dd9f4c74ab09cb48f42de45ed93": {
          "model_module": "@jupyter-widgets/controls",
          "model_name": "HBoxModel",
          "state": {
            "_view_name": "HBoxView",
            "_dom_classes": [],
            "_model_name": "HBoxModel",
            "_view_module": "@jupyter-widgets/controls",
            "_model_module_version": "1.5.0",
            "_view_count": null,
            "_view_module_version": "1.5.0",
            "box_style": "",
            "layout": "IPY_MODEL_8964d4f6ff8346b4a8410c90127d8eb8",
            "_model_module": "@jupyter-widgets/controls",
            "children": [
              "IPY_MODEL_1563a8a2fced4629b4a03375bd18b0e7",
              "IPY_MODEL_3eb5f3f56d5b405782faccf299a29a97"
            ]
          }
        },
        "8964d4f6ff8346b4a8410c90127d8eb8": {
          "model_module": "@jupyter-widgets/base",
          "model_name": "LayoutModel",
          "state": {
            "_view_name": "LayoutView",
            "grid_template_rows": null,
            "right": null,
            "justify_content": null,
            "_view_module": "@jupyter-widgets/base",
            "overflow": null,
            "_model_module_version": "1.2.0",
            "_view_count": null,
            "flex_flow": null,
            "width": null,
            "min_width": null,
            "border": null,
            "align_items": null,
            "bottom": null,
            "_model_module": "@jupyter-widgets/base",
            "top": null,
            "grid_column": null,
            "overflow_y": null,
            "overflow_x": null,
            "grid_auto_flow": null,
            "grid_area": null,
            "grid_template_columns": null,
            "flex": null,
            "_model_name": "LayoutModel",
            "justify_items": null,
            "grid_row": null,
            "max_height": null,
            "align_content": null,
            "visibility": null,
            "align_self": null,
            "height": null,
            "min_height": null,
            "padding": null,
            "grid_auto_rows": null,
            "grid_gap": null,
            "max_width": null,
            "order": null,
            "_view_module_version": "1.2.0",
            "grid_template_areas": null,
            "object_position": null,
            "object_fit": null,
            "grid_auto_columns": null,
            "margin": null,
            "display": null,
            "left": null
          }
        },
        "1563a8a2fced4629b4a03375bd18b0e7": {
          "model_module": "@jupyter-widgets/controls",
          "model_name": "FloatProgressModel",
          "state": {
            "_view_name": "ProgressView",
            "style": "IPY_MODEL_d6911ce5f5d9459abc4d1e9748eba4cc",
            "_dom_classes": [],
            "description": "100%",
            "_model_name": "FloatProgressModel",
            "bar_style": "success",
            "max": 300,
            "_view_module": "@jupyter-widgets/controls",
            "_model_module_version": "1.5.0",
            "value": 300,
            "_view_count": null,
            "_view_module_version": "1.5.0",
            "orientation": "horizontal",
            "min": 0,
            "description_tooltip": null,
            "_model_module": "@jupyter-widgets/controls",
            "layout": "IPY_MODEL_1e7a0aec03054301aafcb30a116eee71"
          }
        },
        "3eb5f3f56d5b405782faccf299a29a97": {
          "model_module": "@jupyter-widgets/controls",
          "model_name": "HTMLModel",
          "state": {
            "_view_name": "HTMLView",
            "style": "IPY_MODEL_e7e446c171a94c43a2cd1e67304a01dc",
            "_dom_classes": [],
            "description": "",
            "_model_name": "HTMLModel",
            "placeholder": "​",
            "_view_module": "@jupyter-widgets/controls",
            "_model_module_version": "1.5.0",
            "value": " 300/300 [03:05&lt;00:00,  1.62batch/s]",
            "_view_count": null,
            "_view_module_version": "1.5.0",
            "description_tooltip": null,
            "_model_module": "@jupyter-widgets/controls",
            "layout": "IPY_MODEL_c061e524fc86431986053253aed54cc6"
          }
        },
        "d6911ce5f5d9459abc4d1e9748eba4cc": {
          "model_module": "@jupyter-widgets/controls",
          "model_name": "ProgressStyleModel",
          "state": {
            "_view_name": "StyleView",
            "_model_name": "ProgressStyleModel",
            "description_width": "initial",
            "_view_module": "@jupyter-widgets/base",
            "_model_module_version": "1.5.0",
            "_view_count": null,
            "_view_module_version": "1.2.0",
            "bar_color": null,
            "_model_module": "@jupyter-widgets/controls"
          }
        },
        "1e7a0aec03054301aafcb30a116eee71": {
          "model_module": "@jupyter-widgets/base",
          "model_name": "LayoutModel",
          "state": {
            "_view_name": "LayoutView",
            "grid_template_rows": null,
            "right": null,
            "justify_content": null,
            "_view_module": "@jupyter-widgets/base",
            "overflow": null,
            "_model_module_version": "1.2.0",
            "_view_count": null,
            "flex_flow": null,
            "width": null,
            "min_width": null,
            "border": null,
            "align_items": null,
            "bottom": null,
            "_model_module": "@jupyter-widgets/base",
            "top": null,
            "grid_column": null,
            "overflow_y": null,
            "overflow_x": null,
            "grid_auto_flow": null,
            "grid_area": null,
            "grid_template_columns": null,
            "flex": null,
            "_model_name": "LayoutModel",
            "justify_items": null,
            "grid_row": null,
            "max_height": null,
            "align_content": null,
            "visibility": null,
            "align_self": null,
            "height": null,
            "min_height": null,
            "padding": null,
            "grid_auto_rows": null,
            "grid_gap": null,
            "max_width": null,
            "order": null,
            "_view_module_version": "1.2.0",
            "grid_template_areas": null,
            "object_position": null,
            "object_fit": null,
            "grid_auto_columns": null,
            "margin": null,
            "display": null,
            "left": null
          }
        },
        "e7e446c171a94c43a2cd1e67304a01dc": {
          "model_module": "@jupyter-widgets/controls",
          "model_name": "DescriptionStyleModel",
          "state": {
            "_view_name": "StyleView",
            "_model_name": "DescriptionStyleModel",
            "description_width": "",
            "_view_module": "@jupyter-widgets/base",
            "_model_module_version": "1.5.0",
            "_view_count": null,
            "_view_module_version": "1.2.0",
            "_model_module": "@jupyter-widgets/controls"
          }
        },
        "c061e524fc86431986053253aed54cc6": {
          "model_module": "@jupyter-widgets/base",
          "model_name": "LayoutModel",
          "state": {
            "_view_name": "LayoutView",
            "grid_template_rows": null,
            "right": null,
            "justify_content": null,
            "_view_module": "@jupyter-widgets/base",
            "overflow": null,
            "_model_module_version": "1.2.0",
            "_view_count": null,
            "flex_flow": null,
            "width": null,
            "min_width": null,
            "border": null,
            "align_items": null,
            "bottom": null,
            "_model_module": "@jupyter-widgets/base",
            "top": null,
            "grid_column": null,
            "overflow_y": null,
            "overflow_x": null,
            "grid_auto_flow": null,
            "grid_area": null,
            "grid_template_columns": null,
            "flex": null,
            "_model_name": "LayoutModel",
            "justify_items": null,
            "grid_row": null,
            "max_height": null,
            "align_content": null,
            "visibility": null,
            "align_self": null,
            "height": null,
            "min_height": null,
            "padding": null,
            "grid_auto_rows": null,
            "grid_gap": null,
            "max_width": null,
            "order": null,
            "_view_module_version": "1.2.0",
            "grid_template_areas": null,
            "object_position": null,
            "object_fit": null,
            "grid_auto_columns": null,
            "margin": null,
            "display": null,
            "left": null
          }
        },
        "dfe436fed4eb4db89b740a1b79d18a98": {
          "model_module": "@jupyter-widgets/controls",
          "model_name": "HBoxModel",
          "state": {
            "_view_name": "HBoxView",
            "_dom_classes": [],
            "_model_name": "HBoxModel",
            "_view_module": "@jupyter-widgets/controls",
            "_model_module_version": "1.5.0",
            "_view_count": null,
            "_view_module_version": "1.5.0",
            "box_style": "",
            "layout": "IPY_MODEL_4e5637b3fa36426abe4614feab4909ec",
            "_model_module": "@jupyter-widgets/controls",
            "children": [
              "IPY_MODEL_6cb6733efdf74cfd85ba1a17e5914517",
              "IPY_MODEL_eb654989ac394bc4af9b36556af26534"
            ]
          }
        },
        "4e5637b3fa36426abe4614feab4909ec": {
          "model_module": "@jupyter-widgets/base",
          "model_name": "LayoutModel",
          "state": {
            "_view_name": "LayoutView",
            "grid_template_rows": null,
            "right": null,
            "justify_content": null,
            "_view_module": "@jupyter-widgets/base",
            "overflow": null,
            "_model_module_version": "1.2.0",
            "_view_count": null,
            "flex_flow": null,
            "width": null,
            "min_width": null,
            "border": null,
            "align_items": null,
            "bottom": null,
            "_model_module": "@jupyter-widgets/base",
            "top": null,
            "grid_column": null,
            "overflow_y": null,
            "overflow_x": null,
            "grid_auto_flow": null,
            "grid_area": null,
            "grid_template_columns": null,
            "flex": null,
            "_model_name": "LayoutModel",
            "justify_items": null,
            "grid_row": null,
            "max_height": null,
            "align_content": null,
            "visibility": null,
            "align_self": null,
            "height": null,
            "min_height": null,
            "padding": null,
            "grid_auto_rows": null,
            "grid_gap": null,
            "max_width": null,
            "order": null,
            "_view_module_version": "1.2.0",
            "grid_template_areas": null,
            "object_position": null,
            "object_fit": null,
            "grid_auto_columns": null,
            "margin": null,
            "display": null,
            "left": null
          }
        },
        "6cb6733efdf74cfd85ba1a17e5914517": {
          "model_module": "@jupyter-widgets/controls",
          "model_name": "FloatProgressModel",
          "state": {
            "_view_name": "ProgressView",
            "style": "IPY_MODEL_80876ad2d3d946938ee3539bce05151e",
            "_dom_classes": [],
            "description": "100%",
            "_model_name": "FloatProgressModel",
            "bar_style": "success",
            "max": 200,
            "_view_module": "@jupyter-widgets/controls",
            "_model_module_version": "1.5.0",
            "value": 200,
            "_view_count": null,
            "_view_module_version": "1.5.0",
            "orientation": "horizontal",
            "min": 0,
            "description_tooltip": null,
            "_model_module": "@jupyter-widgets/controls",
            "layout": "IPY_MODEL_a982dc66f88d4f61bcbba368b34d908d"
          }
        },
        "eb654989ac394bc4af9b36556af26534": {
          "model_module": "@jupyter-widgets/controls",
          "model_name": "HTMLModel",
          "state": {
            "_view_name": "HTMLView",
            "style": "IPY_MODEL_982e7707a5864dc9949d61ad1c2010ac",
            "_dom_classes": [],
            "description": "",
            "_model_name": "HTMLModel",
            "placeholder": "​",
            "_view_module": "@jupyter-widgets/controls",
            "_model_module_version": "1.5.0",
            "value": " 200/200 [01:52&lt;00:00,  1.78batch/s]",
            "_view_count": null,
            "_view_module_version": "1.5.0",
            "description_tooltip": null,
            "_model_module": "@jupyter-widgets/controls",
            "layout": "IPY_MODEL_a2fcdd81a7e940c9bc84c0221badd4cd"
          }
        },
        "80876ad2d3d946938ee3539bce05151e": {
          "model_module": "@jupyter-widgets/controls",
          "model_name": "ProgressStyleModel",
          "state": {
            "_view_name": "StyleView",
            "_model_name": "ProgressStyleModel",
            "description_width": "initial",
            "_view_module": "@jupyter-widgets/base",
            "_model_module_version": "1.5.0",
            "_view_count": null,
            "_view_module_version": "1.2.0",
            "bar_color": null,
            "_model_module": "@jupyter-widgets/controls"
          }
        },
        "a982dc66f88d4f61bcbba368b34d908d": {
          "model_module": "@jupyter-widgets/base",
          "model_name": "LayoutModel",
          "state": {
            "_view_name": "LayoutView",
            "grid_template_rows": null,
            "right": null,
            "justify_content": null,
            "_view_module": "@jupyter-widgets/base",
            "overflow": null,
            "_model_module_version": "1.2.0",
            "_view_count": null,
            "flex_flow": null,
            "width": null,
            "min_width": null,
            "border": null,
            "align_items": null,
            "bottom": null,
            "_model_module": "@jupyter-widgets/base",
            "top": null,
            "grid_column": null,
            "overflow_y": null,
            "overflow_x": null,
            "grid_auto_flow": null,
            "grid_area": null,
            "grid_template_columns": null,
            "flex": null,
            "_model_name": "LayoutModel",
            "justify_items": null,
            "grid_row": null,
            "max_height": null,
            "align_content": null,
            "visibility": null,
            "align_self": null,
            "height": null,
            "min_height": null,
            "padding": null,
            "grid_auto_rows": null,
            "grid_gap": null,
            "max_width": null,
            "order": null,
            "_view_module_version": "1.2.0",
            "grid_template_areas": null,
            "object_position": null,
            "object_fit": null,
            "grid_auto_columns": null,
            "margin": null,
            "display": null,
            "left": null
          }
        },
        "982e7707a5864dc9949d61ad1c2010ac": {
          "model_module": "@jupyter-widgets/controls",
          "model_name": "DescriptionStyleModel",
          "state": {
            "_view_name": "StyleView",
            "_model_name": "DescriptionStyleModel",
            "description_width": "",
            "_view_module": "@jupyter-widgets/base",
            "_model_module_version": "1.5.0",
            "_view_count": null,
            "_view_module_version": "1.2.0",
            "_model_module": "@jupyter-widgets/controls"
          }
        },
        "a2fcdd81a7e940c9bc84c0221badd4cd": {
          "model_module": "@jupyter-widgets/base",
          "model_name": "LayoutModel",
          "state": {
            "_view_name": "LayoutView",
            "grid_template_rows": null,
            "right": null,
            "justify_content": null,
            "_view_module": "@jupyter-widgets/base",
            "overflow": null,
            "_model_module_version": "1.2.0",
            "_view_count": null,
            "flex_flow": null,
            "width": null,
            "min_width": null,
            "border": null,
            "align_items": null,
            "bottom": null,
            "_model_module": "@jupyter-widgets/base",
            "top": null,
            "grid_column": null,
            "overflow_y": null,
            "overflow_x": null,
            "grid_auto_flow": null,
            "grid_area": null,
            "grid_template_columns": null,
            "flex": null,
            "_model_name": "LayoutModel",
            "justify_items": null,
            "grid_row": null,
            "max_height": null,
            "align_content": null,
            "visibility": null,
            "align_self": null,
            "height": null,
            "min_height": null,
            "padding": null,
            "grid_auto_rows": null,
            "grid_gap": null,
            "max_width": null,
            "order": null,
            "_view_module_version": "1.2.0",
            "grid_template_areas": null,
            "object_position": null,
            "object_fit": null,
            "grid_auto_columns": null,
            "margin": null,
            "display": null,
            "left": null
          }
        },
        "27941836341f44b697bae9771b903a49": {
          "model_module": "@jupyter-widgets/controls",
          "model_name": "HBoxModel",
          "state": {
            "_view_name": "HBoxView",
            "_dom_classes": [],
            "_model_name": "HBoxModel",
            "_view_module": "@jupyter-widgets/controls",
            "_model_module_version": "1.5.0",
            "_view_count": null,
            "_view_module_version": "1.5.0",
            "box_style": "",
            "layout": "IPY_MODEL_a9fb14ade58d4eb08aa4dc38466e5f67",
            "_model_module": "@jupyter-widgets/controls",
            "children": [
              "IPY_MODEL_cceb96637780486798f17b7cb915ccdd",
              "IPY_MODEL_9538bcb804fb4e9bacb276cd54e50111"
            ]
          }
        },
        "a9fb14ade58d4eb08aa4dc38466e5f67": {
          "model_module": "@jupyter-widgets/base",
          "model_name": "LayoutModel",
          "state": {
            "_view_name": "LayoutView",
            "grid_template_rows": null,
            "right": null,
            "justify_content": null,
            "_view_module": "@jupyter-widgets/base",
            "overflow": null,
            "_model_module_version": "1.2.0",
            "_view_count": null,
            "flex_flow": null,
            "width": null,
            "min_width": null,
            "border": null,
            "align_items": null,
            "bottom": null,
            "_model_module": "@jupyter-widgets/base",
            "top": null,
            "grid_column": null,
            "overflow_y": null,
            "overflow_x": null,
            "grid_auto_flow": null,
            "grid_area": null,
            "grid_template_columns": null,
            "flex": null,
            "_model_name": "LayoutModel",
            "justify_items": null,
            "grid_row": null,
            "max_height": null,
            "align_content": null,
            "visibility": null,
            "align_self": null,
            "height": null,
            "min_height": null,
            "padding": null,
            "grid_auto_rows": null,
            "grid_gap": null,
            "max_width": null,
            "order": null,
            "_view_module_version": "1.2.0",
            "grid_template_areas": null,
            "object_position": null,
            "object_fit": null,
            "grid_auto_columns": null,
            "margin": null,
            "display": null,
            "left": null
          }
        },
        "cceb96637780486798f17b7cb915ccdd": {
          "model_module": "@jupyter-widgets/controls",
          "model_name": "FloatProgressModel",
          "state": {
            "_view_name": "ProgressView",
            "style": "IPY_MODEL_f0b2db34e4f54dde8f7b412fec4e3871",
            "_dom_classes": [],
            "description": "100%",
            "_model_name": "FloatProgressModel",
            "bar_style": "success",
            "max": 3000,
            "_view_module": "@jupyter-widgets/controls",
            "_model_module_version": "1.5.0",
            "value": 3000,
            "_view_count": null,
            "_view_module_version": "1.5.0",
            "orientation": "horizontal",
            "min": 0,
            "description_tooltip": null,
            "_model_module": "@jupyter-widgets/controls",
            "layout": "IPY_MODEL_967d043bb7994a6696798b56f6312499"
          }
        },
        "9538bcb804fb4e9bacb276cd54e50111": {
          "model_module": "@jupyter-widgets/controls",
          "model_name": "HTMLModel",
          "state": {
            "_view_name": "HTMLView",
            "style": "IPY_MODEL_b09b28e1edc243809930a86e664b89af",
            "_dom_classes": [],
            "description": "",
            "_model_name": "HTMLModel",
            "placeholder": "​",
            "_view_module": "@jupyter-widgets/controls",
            "_model_module_version": "1.5.0",
            "value": " 3000/3000 [01:55&lt;00:00, 26.00epoch/s]",
            "_view_count": null,
            "_view_module_version": "1.5.0",
            "description_tooltip": null,
            "_model_module": "@jupyter-widgets/controls",
            "layout": "IPY_MODEL_6dfc5a7192774ae497c7e7429b60013d"
          }
        },
        "f0b2db34e4f54dde8f7b412fec4e3871": {
          "model_module": "@jupyter-widgets/controls",
          "model_name": "ProgressStyleModel",
          "state": {
            "_view_name": "StyleView",
            "_model_name": "ProgressStyleModel",
            "description_width": "initial",
            "_view_module": "@jupyter-widgets/base",
            "_model_module_version": "1.5.0",
            "_view_count": null,
            "_view_module_version": "1.2.0",
            "bar_color": null,
            "_model_module": "@jupyter-widgets/controls"
          }
        },
        "967d043bb7994a6696798b56f6312499": {
          "model_module": "@jupyter-widgets/base",
          "model_name": "LayoutModel",
          "state": {
            "_view_name": "LayoutView",
            "grid_template_rows": null,
            "right": null,
            "justify_content": null,
            "_view_module": "@jupyter-widgets/base",
            "overflow": null,
            "_model_module_version": "1.2.0",
            "_view_count": null,
            "flex_flow": null,
            "width": null,
            "min_width": null,
            "border": null,
            "align_items": null,
            "bottom": null,
            "_model_module": "@jupyter-widgets/base",
            "top": null,
            "grid_column": null,
            "overflow_y": null,
            "overflow_x": null,
            "grid_auto_flow": null,
            "grid_area": null,
            "grid_template_columns": null,
            "flex": null,
            "_model_name": "LayoutModel",
            "justify_items": null,
            "grid_row": null,
            "max_height": null,
            "align_content": null,
            "visibility": null,
            "align_self": null,
            "height": null,
            "min_height": null,
            "padding": null,
            "grid_auto_rows": null,
            "grid_gap": null,
            "max_width": null,
            "order": null,
            "_view_module_version": "1.2.0",
            "grid_template_areas": null,
            "object_position": null,
            "object_fit": null,
            "grid_auto_columns": null,
            "margin": null,
            "display": null,
            "left": null
          }
        },
        "b09b28e1edc243809930a86e664b89af": {
          "model_module": "@jupyter-widgets/controls",
          "model_name": "DescriptionStyleModel",
          "state": {
            "_view_name": "StyleView",
            "_model_name": "DescriptionStyleModel",
            "description_width": "",
            "_view_module": "@jupyter-widgets/base",
            "_model_module_version": "1.5.0",
            "_view_count": null,
            "_view_module_version": "1.2.0",
            "_model_module": "@jupyter-widgets/controls"
          }
        },
        "6dfc5a7192774ae497c7e7429b60013d": {
          "model_module": "@jupyter-widgets/base",
          "model_name": "LayoutModel",
          "state": {
            "_view_name": "LayoutView",
            "grid_template_rows": null,
            "right": null,
            "justify_content": null,
            "_view_module": "@jupyter-widgets/base",
            "overflow": null,
            "_model_module_version": "1.2.0",
            "_view_count": null,
            "flex_flow": null,
            "width": null,
            "min_width": null,
            "border": null,
            "align_items": null,
            "bottom": null,
            "_model_module": "@jupyter-widgets/base",
            "top": null,
            "grid_column": null,
            "overflow_y": null,
            "overflow_x": null,
            "grid_auto_flow": null,
            "grid_area": null,
            "grid_template_columns": null,
            "flex": null,
            "_model_name": "LayoutModel",
            "justify_items": null,
            "grid_row": null,
            "max_height": null,
            "align_content": null,
            "visibility": null,
            "align_self": null,
            "height": null,
            "min_height": null,
            "padding": null,
            "grid_auto_rows": null,
            "grid_gap": null,
            "max_width": null,
            "order": null,
            "_view_module_version": "1.2.0",
            "grid_template_areas": null,
            "object_position": null,
            "object_fit": null,
            "grid_auto_columns": null,
            "margin": null,
            "display": null,
            "left": null
          }
        }
      }
    }
  },
  "cells": [
    {
      "cell_type": "code",
      "metadata": {
        "id": "V21PsQ4PTban"
      },
      "source": [
        "import pandas as pd\r\n",
        "import numpy as np\r\n",
        "import matplotlib.pyplot as plt\r\n",
        "import seaborn as sns\r\n",
        "from io import open\r\n",
        "import string\r\n",
        "from IPython.display import clear_output"
      ],
      "execution_count": null,
      "outputs": []
    },
    {
      "cell_type": "code",
      "metadata": {
        "id": "L_To3kEYVuW9"
      },
      "source": [
        "from sklearn.model_selection import train_test_split\r\n"
      ],
      "execution_count": null,
      "outputs": []
    },
    {
      "cell_type": "code",
      "metadata": {
        "id": "ZrjFheaXV1fQ"
      },
      "source": [
        "import torch\r\n",
        "import torch.nn as nn\r\n",
        "import torch.optim as optim\r\n",
        "import torchvision\r\n",
        "\r\n",
        "nn.Conv2d(,)"
      ],
      "execution_count": null,
      "outputs": []
    },
    {
      "cell_type": "code",
      "metadata": {
        "id": "GLOQfpmRV_GS"
      },
      "source": [
        "device = torch.device('cuda:0' if torch.cuda.is_available else 'cpu')\r\n",
        "from IPython.display import clear_output\r\n",
        "#Import clear_output basically, in case when want continous output from a single cell and just want to \r\n",
        "#retain a signle output."
      ],
      "execution_count": null,
      "outputs": []
    },
    {
      "cell_type": "code",
      "metadata": {
        "colab": {
          "base_uri": "https://localhost:8080/"
        },
        "id": "Rwl4lDaoWF7M",
        "outputId": "70a692dc-5bd5-4b23-c955-1d1099875ed3"
      },
      "source": [
        "#data formatting.\r\n",
        "nat = []\r\n",
        "X = []\r\n",
        "Y = []\r\n",
        "data = []\r\n",
        "i=0\r\n",
        "j=0\r\n",
        "k=0\r\n",
        "with open('name2lang.txt') as l: #Reading data from text_file (line by line).\r\n",
        "  for f in l:\r\n",
        "    text = l.readline()\r\n",
        "    text = text.split(',')\r\n",
        "    X.append(text[0])            #Storing names.\r\n",
        "    Y.append(text[1].strip())       # storing all languages\r\n",
        "    if  text[1].strip()  not in nat:\r\n",
        "      nat.append(text[1].strip())\r\n",
        "    \r\n",
        "    if text[1].strip() == 'Russian':\r\n",
        "      i = i + 1\r\n",
        "      if i%30 == 0:\r\n",
        "        k+=1\r\n",
        "        data.append(text)\r\n",
        "      else:\r\n",
        "        continue\r\n",
        "    \r\n",
        "    elif text[1].strip() == 'English':\r\n",
        "      j+=1\r\n",
        "      if j%25 == 0:\r\n",
        "        k+=1\r\n",
        "        data.append(text)\r\n",
        "      else:\r\n",
        "        continue\r\n",
        "    \r\n",
        "    elif text[1].strip() == 'Arabic':\r\n",
        "      j+=1\r\n",
        "      if j%2 == 0:\r\n",
        "        k+=1\r\n",
        "        data.append(text)\r\n",
        "      else:\r\n",
        "        continue\r\n",
        "\r\n",
        "    else:\r\n",
        "      data.append(text) \r\n",
        "\r\n",
        "len_nat = len(nat);\r\n",
        "print(i,k,j)"
      ],
      "execution_count": null,
      "outputs": [
        {
          "output_type": "stream",
          "text": [
            "4692 729 2834\n"
          ],
          "name": "stdout"
        }
      ]
    },
    {
      "cell_type": "code",
      "metadata": {
        "colab": {
          "base_uri": "https://localhost:8080/"
        },
        "id": "siM5liJYcwXh",
        "outputId": "4192c476-1c57-4efa-a39e-ba2fc6f3a45d"
      },
      "source": [
        "len(data)"
      ],
      "execution_count": null,
      "outputs": [
        {
          "output_type": "execute_result",
          "data": {
            "text/plain": [
              "3228"
            ]
          },
          "metadata": {
            "tags": []
          },
          "execution_count": 6
        }
      ]
    },
    {
      "cell_type": "code",
      "metadata": {
        "id": "KkQ6yTV-dEqt"
      },
      "source": [
        "X_train,X_test,Y_train,Y_test = train_test_split(X,Y,random_state = 42, stratify  = Y);"
      ],
      "execution_count": null,
      "outputs": []
    },
    {
      "cell_type": "code",
      "metadata": {
        "colab": {
          "base_uri": "https://localhost:8080/"
        },
        "id": "ioT38IZDgdgO",
        "outputId": "f1dd540b-b7d6-48e6-a91a-9de3d0214207"
      },
      "source": [
        "print(X_train[0:4], Y_train[0:4])"
      ],
      "execution_count": null,
      "outputs": [
        {
          "output_type": "stream",
          "text": [
            "['Robert', 'Bosch', 'Price', 'Chekin'] ['Dutch', 'German', 'English', 'Russian']\n"
          ],
          "name": "stdout"
        }
      ]
    },
    {
      "cell_type": "markdown",
      "metadata": {
        "id": "KBQ8aj6GhQjN"
      },
      "source": [
        "#Encoding the given dataset."
      ]
    },
    {
      "cell_type": "code",
      "metadata": {
        "id": "ltyIytPqgfQv"
      },
      "source": [
        "all_letters = string.ascii_letters + ',.;:'\r\n",
        "ll = len(all_letters)"
      ],
      "execution_count": null,
      "outputs": []
    },
    {
      "cell_type": "code",
      "metadata": {
        "id": "U3Rz9u_Cgnhz"
      },
      "source": [
        "def name_rep(s):\r\n",
        "  rep = torch.zeros(len(s),1,ll)  #Created a blank_one_hot_encoder of size (len(letter),0,26);\r\n",
        "  for index,charac in enumerate(s): #Gives index, character value of s character.\r\n",
        "    pos = all_letters.find(charac) #Return poisition of char in all_letters-->(to one hot encode.)\r\n",
        "    rep[index][0][pos] = 1\r\n",
        "  return rep"
      ],
      "execution_count": null,
      "outputs": []
    },
    {
      "cell_type": "code",
      "metadata": {
        "id": "ZzbR048PjJ0Y"
      },
      "source": [
        "def  nat_rep(s):\r\n",
        "  return torch.tensor([nat.index(s)], dtype = torch.long)"
      ],
      "execution_count": null,
      "outputs": []
    },
    {
      "cell_type": "code",
      "metadata": {
        "colab": {
          "base_uri": "https://localhost:8080/"
        },
        "id": "zNCeZ9XdiQQE",
        "outputId": "7fd6964c-d824-429f-87cf-21dbad77aa4c"
      },
      "source": [
        "nat_rep(nat[9])"
      ],
      "execution_count": null,
      "outputs": [
        {
          "output_type": "execute_result",
          "data": {
            "text/plain": [
              "tensor([9])"
            ]
          },
          "metadata": {
            "tags": []
          },
          "execution_count": 12
        }
      ]
    },
    {
      "cell_type": "code",
      "metadata": {
        "colab": {
          "base_uri": "https://localhost:8080/"
        },
        "id": "r0aC0SIhifiP",
        "outputId": "a10fef43-9bdb-4fdd-8a89-35611cca650d"
      },
      "source": [
        "print(name_rep('Akshit'));"
      ],
      "execution_count": null,
      "outputs": [
        {
          "output_type": "stream",
          "text": [
            "tensor([[[0., 0., 0., 0., 0., 0., 0., 0., 0., 0., 0., 0., 0., 0., 0., 0., 0.,\n",
            "          0., 0., 0., 0., 0., 0., 0., 0., 0., 1., 0., 0., 0., 0., 0., 0., 0.,\n",
            "          0., 0., 0., 0., 0., 0., 0., 0., 0., 0., 0., 0., 0., 0., 0., 0., 0.,\n",
            "          0., 0., 0., 0., 0.]],\n",
            "\n",
            "        [[0., 0., 0., 0., 0., 0., 0., 0., 0., 0., 1., 0., 0., 0., 0., 0., 0.,\n",
            "          0., 0., 0., 0., 0., 0., 0., 0., 0., 0., 0., 0., 0., 0., 0., 0., 0.,\n",
            "          0., 0., 0., 0., 0., 0., 0., 0., 0., 0., 0., 0., 0., 0., 0., 0., 0.,\n",
            "          0., 0., 0., 0., 0.]],\n",
            "\n",
            "        [[0., 0., 0., 0., 0., 0., 0., 0., 0., 0., 0., 0., 0., 0., 0., 0., 0.,\n",
            "          0., 1., 0., 0., 0., 0., 0., 0., 0., 0., 0., 0., 0., 0., 0., 0., 0.,\n",
            "          0., 0., 0., 0., 0., 0., 0., 0., 0., 0., 0., 0., 0., 0., 0., 0., 0.,\n",
            "          0., 0., 0., 0., 0.]],\n",
            "\n",
            "        [[0., 0., 0., 0., 0., 0., 0., 1., 0., 0., 0., 0., 0., 0., 0., 0., 0.,\n",
            "          0., 0., 0., 0., 0., 0., 0., 0., 0., 0., 0., 0., 0., 0., 0., 0., 0.,\n",
            "          0., 0., 0., 0., 0., 0., 0., 0., 0., 0., 0., 0., 0., 0., 0., 0., 0.,\n",
            "          0., 0., 0., 0., 0.]],\n",
            "\n",
            "        [[0., 0., 0., 0., 0., 0., 0., 0., 1., 0., 0., 0., 0., 0., 0., 0., 0.,\n",
            "          0., 0., 0., 0., 0., 0., 0., 0., 0., 0., 0., 0., 0., 0., 0., 0., 0.,\n",
            "          0., 0., 0., 0., 0., 0., 0., 0., 0., 0., 0., 0., 0., 0., 0., 0., 0.,\n",
            "          0., 0., 0., 0., 0.]],\n",
            "\n",
            "        [[0., 0., 0., 0., 0., 0., 0., 0., 0., 0., 0., 0., 0., 0., 0., 0., 0.,\n",
            "          0., 0., 1., 0., 0., 0., 0., 0., 0., 0., 0., 0., 0., 0., 0., 0., 0.,\n",
            "          0., 0., 0., 0., 0., 0., 0., 0., 0., 0., 0., 0., 0., 0., 0., 0., 0.,\n",
            "          0., 0., 0., 0., 0.]]])\n"
          ],
          "name": "stdout"
        }
      ]
    },
    {
      "cell_type": "markdown",
      "metadata": {
        "id": "q9Rm0vFKoNEJ"
      },
      "source": [
        "#Visualization of data!"
      ]
    },
    {
      "cell_type": "code",
      "metadata": {
        "colab": {
          "base_uri": "https://localhost:8080/"
        },
        "id": "UGQWbfcjjpQh",
        "outputId": "bf03d1ed-c22a-411c-e88e-108fda59abd7"
      },
      "source": [
        "#Checking distribution of each language in names.\r\n",
        "dis = {}\r\n",
        "for i in nat:\r\n",
        "  dis[i]=1\r\n",
        "for d in data:\r\n",
        "  dis[d[1].split()[0]]+=1\r\n",
        "print(dis['Russian'])"
      ],
      "execution_count": null,
      "outputs": [
        {
          "output_type": "stream",
          "text": [
            "157\n"
          ],
          "name": "stdout"
        }
      ]
    },
    {
      "cell_type": "code",
      "metadata": {
        "colab": {
          "base_uri": "https://localhost:8080/",
          "height": 417
        },
        "id": "M7dg6cSMoQlO",
        "outputId": "c042c2da-d6d4-4f37-cc84-fdcd0e1655c9"
      },
      "source": [
        "plt.style.use('seaborn')\r\n",
        "fig = plt.gcf()\r\n",
        "fig.set_size_inches(10,6);\r\n",
        "sns.barplot(x=list(dis.keys()), y =list(dis.values()));\r\n",
        "plt.xticks(rotation = 90);\r\n",
        "plt.show()"
      ],
      "execution_count": null,
      "outputs": [
        {
          "output_type": "display_data",
          "data": {
            "image/png": "[encoded data removed]",
            "text/plain": [
              "<Figure size 720x432 with 1 Axes>"
            ]
          },
          "metadata": {
            "tags": []
          }
        }
      ]
    },
    {
      "cell_type": "markdown",
      "metadata": {
        "id": "2u5QFjAKtT9C"
      },
      "source": [
        "Clearly, the data is distributed very in a very biased way. \r\n",
        "The model is more likely to predict the particular class \"Russia\", more oftenly."
      ]
    },
    {
      "cell_type": "markdown",
      "metadata": {
        "id": "8AFFennkth2k"
      },
      "source": [
        "Model!"
      ]
    },
    {
      "cell_type": "code",
      "metadata": {
        "id": "h-jDQzXVtgES"
      },
      "source": [
        "class RNN_net_1(nn.Module):\r\n",
        "  \r\n",
        "  def __init__(self,hidden_size, input_size, output_size):\r\n",
        "    super(RNN_net_1, self).__init__()\r\n",
        "    self.hidden = hidden_size\r\n",
        "    self.i2h = nn.Linear(hidden_size + input_size, hidden_size) #Conmputing the hidden_layers. The input to any hidden_layer is s_t = s_t-1 + x_t.\r\n",
        "    self.i2o = nn.Linear(hidden_size + input_size, output_size)  #Computing the output_layer. In our case, it is end result.\r\n",
        "    self.soft = nn.LogSoftmax(dim=1) #Here, using the softmax function for output layer.\r\n",
        "\r\n",
        "  def forward(self, input, hidden):\r\n",
        "    comb = torch.cat((input, hidden), 1)\r\n",
        "    hidden = self.i2h(comb);                                          #Calculating the hidden layer.\r\n",
        "    out_put = self.i2o(comb)                                          #Calculatin the output. As we are doing at each level, we are doing \r\n",
        "                                                                      #seqnce to seq classification.\r\n",
        "    out = self.soft(out_put)                                       #Applieng the softmax at the end.\r\n",
        "\r\n",
        "    return out, hidden\r\n",
        "  \r\n",
        "  def init_hidden(self):\r\n",
        "    return torch.zeros(1,self.hidden)"
      ],
      "execution_count": null,
      "outputs": []
    },
    {
      "cell_type": "code",
      "metadata": {
        "id": "ArzGSzBNtgA3"
      },
      "source": [
        "hidden_layers = 64\r\n",
        "net =   RNN_net(hidden_layers, len(all_letters), len(nat))"
      ],
      "execution_count": null,
      "outputs": []
    },
    {
      "cell_type": "code",
      "metadata": {
        "colab": {
          "base_uri": "https://localhost:8080/"
        },
        "id": "G_qw3uGNpiSj",
        "outputId": "ebb3524f-ba54-421f-b4bd-600b3ba476bf"
      },
      "source": [
        "nat"
      ],
      "execution_count": null,
      "outputs": [
        {
          "output_type": "execute_result",
          "data": {
            "text/plain": [
              "['Portuguese',\n",
              " 'Irish',\n",
              " 'Spanish',\n",
              " 'Vietnamese',\n",
              " 'Chinese',\n",
              " 'Greek',\n",
              " 'Czech',\n",
              " 'Dutch',\n",
              " 'Japanese',\n",
              " 'French',\n",
              " 'German',\n",
              " 'Scottish',\n",
              " 'English',\n",
              " 'Russian',\n",
              " 'Polish',\n",
              " 'Arabic',\n",
              " 'Korean',\n",
              " 'Italian']"
            ]
          },
          "metadata": {
            "tags": []
          },
          "execution_count": 18
        }
      ]
    },
    {
      "cell_type": "markdown",
      "metadata": {
        "id": "5HnQRn18xpWC"
      },
      "source": [
        "\r\n",
        "\r\n",
        "```\r\n",
        "RNN_net(\r\n",
        "  (i2h): Linear(in_features=184, out_features=128, bias=True)\r\n",
        "  (i2o): Linear(in_features=128, out_features=56, bias=True)\r\n",
        "  (soft): LogSoftmax(dim=1)\r\n",
        ")\r\n",
        "```\r\n",
        ">single hidden_layer network\r\n",
        "\r\n"
      ]
    },
    {
      "cell_type": "code",
      "metadata": {
        "id": "jD_VLb14pxSr"
      },
      "source": [
        "def get_val(net,name):\r\n",
        "  net.eval()\r\n",
        "  name_one = name_rep(name)                       #One_hot encoding converison of the name.\r\n",
        "  hidden = net.init_hidden()                      #Initializing the 0th hidden_layer.\r\n",
        "  for i in range(name_one.shape[0]):                                  #Moving character_by_character.\r\n",
        "    out, hidden = net.forward(name_one[i], hidden)   #This is a recurrent process, which uses hidden as the recurrent unit.           \r\n",
        "   \r\n",
        "  return out\r\n"
      ],
      "execution_count": null,
      "outputs": []
    },
    {
      "cell_type": "code",
      "metadata": {
        "colab": {
          "base_uri": "https://localhost:8080/"
        },
        "id": "VZ8jqcJH1Tdz",
        "outputId": "1cede61c-6784-476a-ee60-b02735c0a7ec"
      },
      "source": [
        "out_put = get_val(net,'Adam')\r\n",
        "a = torch.argmax(out_put, dim=1).item()\r\n",
        "print(a, nat[a])"
      ],
      "execution_count": null,
      "outputs": [
        {
          "output_type": "stream",
          "text": [
            "2 Spanish\n"
          ],
          "name": "stdout"
        }
      ]
    },
    {
      "cell_type": "markdown",
      "metadata": {
        "id": "GTBnPSI97Fpj"
      },
      "source": [
        ">Creating dataloader"
      ]
    },
    {
      "cell_type": "code",
      "metadata": {
        "id": "Puo3yDft15cw"
      },
      "source": [
        "def dataloader(pts_n, X,Y):\r\n",
        "  to_ret = []\r\n",
        "  for i in range(pts_n):\r\n",
        "    no = np.random.randint(len(X))\r\n",
        "    name, nat_ = X[no], Y[no]\r\n",
        "    to_ret.append((name, nat_, name_rep(name), nat_rep(nat_)))\r\n",
        "\r\n",
        "  return to_ret"
      ],
      "execution_count": null,
      "outputs": []
    },
    {
      "cell_type": "code",
      "metadata": {
        "colab": {
          "base_uri": "https://localhost:8080/"
        },
        "id": "aU1c6z8U7oHT",
        "outputId": "3395eaaf-7f11-4c31-b452-f5343bf3f8c3"
      },
      "source": [
        "data = dataloader(10,X,Y)\r\n",
        "print(data)"
      ],
      "execution_count": null,
      "outputs": [
        {
          "output_type": "stream",
          "text": [
            "[('Researcher', 'Russian', tensor([[[0., 0., 0., 0., 0., 0., 0., 0., 0., 0., 0., 0., 0., 0., 0., 0., 0.,\n",
            "          0., 0., 0., 0., 0., 0., 0., 0., 0., 0., 0., 0., 0., 0., 0., 0., 0.,\n",
            "          0., 0., 0., 0., 0., 0., 0., 0., 0., 1., 0., 0., 0., 0., 0., 0., 0.,\n",
            "          0., 0., 0., 0., 0.]],\n",
            "\n",
            "        [[0., 0., 0., 0., 1., 0., 0., 0., 0., 0., 0., 0., 0., 0., 0., 0., 0.,\n",
            "          0., 0., 0., 0., 0., 0., 0., 0., 0., 0., 0., 0., 0., 0., 0., 0., 0.,\n",
            "          0., 0., 0., 0., 0., 0., 0., 0., 0., 0., 0., 0., 0., 0., 0., 0., 0.,\n",
            "          0., 0., 0., 0., 0.]],\n",
            "\n",
            "        [[0., 0., 0., 0., 0., 0., 0., 0., 0., 0., 0., 0., 0., 0., 0., 0., 0.,\n",
            "          0., 1., 0., 0., 0., 0., 0., 0., 0., 0., 0., 0., 0., 0., 0., 0., 0.,\n",
            "          0., 0., 0., 0., 0., 0., 0., 0., 0., 0., 0., 0., 0., 0., 0., 0., 0.,\n",
            "          0., 0., 0., 0., 0.]],\n",
            "\n",
            "        [[0., 0., 0., 0., 1., 0., 0., 0., 0., 0., 0., 0., 0., 0., 0., 0., 0.,\n",
            "          0., 0., 0., 0., 0., 0., 0., 0., 0., 0., 0., 0., 0., 0., 0., 0., 0.,\n",
            "          0., 0., 0., 0., 0., 0., 0., 0., 0., 0., 0., 0., 0., 0., 0., 0., 0.,\n",
            "          0., 0., 0., 0., 0.]],\n",
            "\n",
            "        [[1., 0., 0., 0., 0., 0., 0., 0., 0., 0., 0., 0., 0., 0., 0., 0., 0.,\n",
            "          0., 0., 0., 0., 0., 0., 0., 0., 0., 0., 0., 0., 0., 0., 0., 0., 0.,\n",
            "          0., 0., 0., 0., 0., 0., 0., 0., 0., 0., 0., 0., 0., 0., 0., 0., 0.,\n",
            "          0., 0., 0., 0., 0.]],\n",
            "\n",
            "        [[0., 0., 0., 0., 0., 0., 0., 0., 0., 0., 0., 0., 0., 0., 0., 0., 0.,\n",
            "          1., 0., 0., 0., 0., 0., 0., 0., 0., 0., 0., 0., 0., 0., 0., 0., 0.,\n",
            "          0., 0., 0., 0., 0., 0., 0., 0., 0., 0., 0., 0., 0., 0., 0., 0., 0.,\n",
            "          0., 0., 0., 0., 0.]],\n",
            "\n",
            "        [[0., 0., 1., 0., 0., 0., 0., 0., 0., 0., 0., 0., 0., 0., 0., 0., 0.,\n",
            "          0., 0., 0., 0., 0., 0., 0., 0., 0., 0., 0., 0., 0., 0., 0., 0., 0.,\n",
            "          0., 0., 0., 0., 0., 0., 0., 0., 0., 0., 0., 0., 0., 0., 0., 0., 0.,\n",
            "          0., 0., 0., 0., 0.]],\n",
            "\n",
            "        [[0., 0., 0., 0., 0., 0., 0., 1., 0., 0., 0., 0., 0., 0., 0., 0., 0.,\n",
            "          0., 0., 0., 0., 0., 0., 0., 0., 0., 0., 0., 0., 0., 0., 0., 0., 0.,\n",
            "          0., 0., 0., 0., 0., 0., 0., 0., 0., 0., 0., 0., 0., 0., 0., 0., 0.,\n",
            "          0., 0., 0., 0., 0.]],\n",
            "\n",
            "        [[0., 0., 0., 0., 1., 0., 0., 0., 0., 0., 0., 0., 0., 0., 0., 0., 0.,\n",
            "          0., 0., 0., 0., 0., 0., 0., 0., 0., 0., 0., 0., 0., 0., 0., 0., 0.,\n",
            "          0., 0., 0., 0., 0., 0., 0., 0., 0., 0., 0., 0., 0., 0., 0., 0., 0.,\n",
            "          0., 0., 0., 0., 0.]],\n",
            "\n",
            "        [[0., 0., 0., 0., 0., 0., 0., 0., 0., 0., 0., 0., 0., 0., 0., 0., 0.,\n",
            "          1., 0., 0., 0., 0., 0., 0., 0., 0., 0., 0., 0., 0., 0., 0., 0., 0.,\n",
            "          0., 0., 0., 0., 0., 0., 0., 0., 0., 0., 0., 0., 0., 0., 0., 0., 0.,\n",
            "          0., 0., 0., 0., 0.]]]), tensor([13])), ('Cerda', 'Czech', tensor([[[0., 0., 0., 0., 0., 0., 0., 0., 0., 0., 0., 0., 0., 0., 0., 0., 0.,\n",
            "          0., 0., 0., 0., 0., 0., 0., 0., 0., 0., 0., 1., 0., 0., 0., 0., 0.,\n",
            "          0., 0., 0., 0., 0., 0., 0., 0., 0., 0., 0., 0., 0., 0., 0., 0., 0.,\n",
            "          0., 0., 0., 0., 0.]],\n",
            "\n",
            "        [[0., 0., 0., 0., 1., 0., 0., 0., 0., 0., 0., 0., 0., 0., 0., 0., 0.,\n",
            "          0., 0., 0., 0., 0., 0., 0., 0., 0., 0., 0., 0., 0., 0., 0., 0., 0.,\n",
            "          0., 0., 0., 0., 0., 0., 0., 0., 0., 0., 0., 0., 0., 0., 0., 0., 0.,\n",
            "          0., 0., 0., 0., 0.]],\n",
            "\n",
            "        [[0., 0., 0., 0., 0., 0., 0., 0., 0., 0., 0., 0., 0., 0., 0., 0., 0.,\n",
            "          1., 0., 0., 0., 0., 0., 0., 0., 0., 0., 0., 0., 0., 0., 0., 0., 0.,\n",
            "          0., 0., 0., 0., 0., 0., 0., 0., 0., 0., 0., 0., 0., 0., 0., 0., 0.,\n",
            "          0., 0., 0., 0., 0.]],\n",
            "\n",
            "        [[0., 0., 0., 1., 0., 0., 0., 0., 0., 0., 0., 0., 0., 0., 0., 0., 0.,\n",
            "          0., 0., 0., 0., 0., 0., 0., 0., 0., 0., 0., 0., 0., 0., 0., 0., 0.,\n",
            "          0., 0., 0., 0., 0., 0., 0., 0., 0., 0., 0., 0., 0., 0., 0., 0., 0.,\n",
            "          0., 0., 0., 0., 0.]],\n",
            "\n",
            "        [[1., 0., 0., 0., 0., 0., 0., 0., 0., 0., 0., 0., 0., 0., 0., 0., 0.,\n",
            "          0., 0., 0., 0., 0., 0., 0., 0., 0., 0., 0., 0., 0., 0., 0., 0., 0.,\n",
            "          0., 0., 0., 0., 0., 0., 0., 0., 0., 0., 0., 0., 0., 0., 0., 0., 0.,\n",
            "          0., 0., 0., 0., 0.]]]), tensor([6])), ('Golovach', 'Russian', tensor([[[0., 0., 0., 0., 0., 0., 0., 0., 0., 0., 0., 0., 0., 0., 0., 0., 0.,\n",
            "          0., 0., 0., 0., 0., 0., 0., 0., 0., 0., 0., 0., 0., 0., 0., 1., 0.,\n",
            "          0., 0., 0., 0., 0., 0., 0., 0., 0., 0., 0., 0., 0., 0., 0., 0., 0.,\n",
            "          0., 0., 0., 0., 0.]],\n",
            "\n",
            "        [[0., 0., 0., 0., 0., 0., 0., 0., 0., 0., 0., 0., 0., 0., 1., 0., 0.,\n",
            "          0., 0., 0., 0., 0., 0., 0., 0., 0., 0., 0., 0., 0., 0., 0., 0., 0.,\n",
            "          0., 0., 0., 0., 0., 0., 0., 0., 0., 0., 0., 0., 0., 0., 0., 0., 0.,\n",
            "          0., 0., 0., 0., 0.]],\n",
            "\n",
            "        [[0., 0., 0., 0., 0., 0., 0., 0., 0., 0., 0., 1., 0., 0., 0., 0., 0.,\n",
            "          0., 0., 0., 0., 0., 0., 0., 0., 0., 0., 0., 0., 0., 0., 0., 0., 0.,\n",
            "          0., 0., 0., 0., 0., 0., 0., 0., 0., 0., 0., 0., 0., 0., 0., 0., 0.,\n",
            "          0., 0., 0., 0., 0.]],\n",
            "\n",
            "        [[0., 0., 0., 0., 0., 0., 0., 0., 0., 0., 0., 0., 0., 0., 1., 0., 0.,\n",
            "          0., 0., 0., 0., 0., 0., 0., 0., 0., 0., 0., 0., 0., 0., 0., 0., 0.,\n",
            "          0., 0., 0., 0., 0., 0., 0., 0., 0., 0., 0., 0., 0., 0., 0., 0., 0.,\n",
            "          0., 0., 0., 0., 0.]],\n",
            "\n",
            "        [[0., 0., 0., 0., 0., 0., 0., 0., 0., 0., 0., 0., 0., 0., 0., 0., 0.,\n",
            "          0., 0., 0., 0., 1., 0., 0., 0., 0., 0., 0., 0., 0., 0., 0., 0., 0.,\n",
            "          0., 0., 0., 0., 0., 0., 0., 0., 0., 0., 0., 0., 0., 0., 0., 0., 0.,\n",
            "          0., 0., 0., 0., 0.]],\n",
            "\n",
            "        [[1., 0., 0., 0., 0., 0., 0., 0., 0., 0., 0., 0., 0., 0., 0., 0., 0.,\n",
            "          0., 0., 0., 0., 0., 0., 0., 0., 0., 0., 0., 0., 0., 0., 0., 0., 0.,\n",
            "          0., 0., 0., 0., 0., 0., 0., 0., 0., 0., 0., 0., 0., 0., 0., 0., 0.,\n",
            "          0., 0., 0., 0., 0.]],\n",
            "\n",
            "        [[0., 0., 1., 0., 0., 0., 0., 0., 0., 0., 0., 0., 0., 0., 0., 0., 0.,\n",
            "          0., 0., 0., 0., 0., 0., 0., 0., 0., 0., 0., 0., 0., 0., 0., 0., 0.,\n",
            "          0., 0., 0., 0., 0., 0., 0., 0., 0., 0., 0., 0., 0., 0., 0., 0., 0.,\n",
            "          0., 0., 0., 0., 0.]],\n",
            "\n",
            "        [[0., 0., 0., 0., 0., 0., 0., 1., 0., 0., 0., 0., 0., 0., 0., 0., 0.,\n",
            "          0., 0., 0., 0., 0., 0., 0., 0., 0., 0., 0., 0., 0., 0., 0., 0., 0.,\n",
            "          0., 0., 0., 0., 0., 0., 0., 0., 0., 0., 0., 0., 0., 0., 0., 0., 0.,\n",
            "          0., 0., 0., 0., 0.]]]), tensor([13])), ('Tulinov', 'Russian', tensor([[[0., 0., 0., 0., 0., 0., 0., 0., 0., 0., 0., 0., 0., 0., 0., 0., 0.,\n",
            "          0., 0., 0., 0., 0., 0., 0., 0., 0., 0., 0., 0., 0., 0., 0., 0., 0.,\n",
            "          0., 0., 0., 0., 0., 0., 0., 0., 0., 0., 0., 1., 0., 0., 0., 0., 0.,\n",
            "          0., 0., 0., 0., 0.]],\n",
            "\n",
            "        [[0., 0., 0., 0., 0., 0., 0., 0., 0., 0., 0., 0., 0., 0., 0., 0., 0.,\n",
            "          0., 0., 0., 1., 0., 0., 0., 0., 0., 0., 0., 0., 0., 0., 0., 0., 0.,\n",
            "          0., 0., 0., 0., 0., 0., 0., 0., 0., 0., 0., 0., 0., 0., 0., 0., 0.,\n",
            "          0., 0., 0., 0., 0.]],\n",
            "\n",
            "        [[0., 0., 0., 0., 0., 0., 0., 0., 0., 0., 0., 1., 0., 0., 0., 0., 0.,\n",
            "          0., 0., 0., 0., 0., 0., 0., 0., 0., 0., 0., 0., 0., 0., 0., 0., 0.,\n",
            "          0., 0., 0., 0., 0., 0., 0., 0., 0., 0., 0., 0., 0., 0., 0., 0., 0.,\n",
            "          0., 0., 0., 0., 0.]],\n",
            "\n",
            "        [[0., 0., 0., 0., 0., 0., 0., 0., 1., 0., 0., 0., 0., 0., 0., 0., 0.,\n",
            "          0., 0., 0., 0., 0., 0., 0., 0., 0., 0., 0., 0., 0., 0., 0., 0., 0.,\n",
            "          0., 0., 0., 0., 0., 0., 0., 0., 0., 0., 0., 0., 0., 0., 0., 0., 0.,\n",
            "          0., 0., 0., 0., 0.]],\n",
            "\n",
            "        [[0., 0., 0., 0., 0., 0., 0., 0., 0., 0., 0., 0., 0., 1., 0., 0., 0.,\n",
            "          0., 0., 0., 0., 0., 0., 0., 0., 0., 0., 0., 0., 0., 0., 0., 0., 0.,\n",
            "          0., 0., 0., 0., 0., 0., 0., 0., 0., 0., 0., 0., 0., 0., 0., 0., 0.,\n",
            "          0., 0., 0., 0., 0.]],\n",
            "\n",
            "        [[0., 0., 0., 0., 0., 0., 0., 0., 0., 0., 0., 0., 0., 0., 1., 0., 0.,\n",
            "          0., 0., 0., 0., 0., 0., 0., 0., 0., 0., 0., 0., 0., 0., 0., 0., 0.,\n",
            "          0., 0., 0., 0., 0., 0., 0., 0., 0., 0., 0., 0., 0., 0., 0., 0., 0.,\n",
            "          0., 0., 0., 0., 0.]],\n",
            "\n",
            "        [[0., 0., 0., 0., 0., 0., 0., 0., 0., 0., 0., 0., 0., 0., 0., 0., 0.,\n",
            "          0., 0., 0., 0., 1., 0., 0., 0., 0., 0., 0., 0., 0., 0., 0., 0., 0.,\n",
            "          0., 0., 0., 0., 0., 0., 0., 0., 0., 0., 0., 0., 0., 0., 0., 0., 0.,\n",
            "          0., 0., 0., 0., 0.]]]), tensor([13])), ('Kalenov', 'Russian', tensor([[[0., 0., 0., 0., 0., 0., 0., 0., 0., 0., 0., 0., 0., 0., 0., 0., 0.,\n",
            "          0., 0., 0., 0., 0., 0., 0., 0., 0., 0., 0., 0., 0., 0., 0., 0., 0.,\n",
            "          0., 0., 1., 0., 0., 0., 0., 0., 0., 0., 0., 0., 0., 0., 0., 0., 0.,\n",
            "          0., 0., 0., 0., 0.]],\n",
            "\n",
            "        [[1., 0., 0., 0., 0., 0., 0., 0., 0., 0., 0., 0., 0., 0., 0., 0., 0.,\n",
            "          0., 0., 0., 0., 0., 0., 0., 0., 0., 0., 0., 0., 0., 0., 0., 0., 0.,\n",
            "          0., 0., 0., 0., 0., 0., 0., 0., 0., 0., 0., 0., 0., 0., 0., 0., 0.,\n",
            "          0., 0., 0., 0., 0.]],\n",
            "\n",
            "        [[0., 0., 0., 0., 0., 0., 0., 0., 0., 0., 0., 1., 0., 0., 0., 0., 0.,\n",
            "          0., 0., 0., 0., 0., 0., 0., 0., 0., 0., 0., 0., 0., 0., 0., 0., 0.,\n",
            "          0., 0., 0., 0., 0., 0., 0., 0., 0., 0., 0., 0., 0., 0., 0., 0., 0.,\n",
            "          0., 0., 0., 0., 0.]],\n",
            "\n",
            "        [[0., 0., 0., 0., 1., 0., 0., 0., 0., 0., 0., 0., 0., 0., 0., 0., 0.,\n",
            "          0., 0., 0., 0., 0., 0., 0., 0., 0., 0., 0., 0., 0., 0., 0., 0., 0.,\n",
            "          0., 0., 0., 0., 0., 0., 0., 0., 0., 0., 0., 0., 0., 0., 0., 0., 0.,\n",
            "          0., 0., 0., 0., 0.]],\n",
            "\n",
            "        [[0., 0., 0., 0., 0., 0., 0., 0., 0., 0., 0., 0., 0., 1., 0., 0., 0.,\n",
            "          0., 0., 0., 0., 0., 0., 0., 0., 0., 0., 0., 0., 0., 0., 0., 0., 0.,\n",
            "          0., 0., 0., 0., 0., 0., 0., 0., 0., 0., 0., 0., 0., 0., 0., 0., 0.,\n",
            "          0., 0., 0., 0., 0.]],\n",
            "\n",
            "        [[0., 0., 0., 0., 0., 0., 0., 0., 0., 0., 0., 0., 0., 0., 1., 0., 0.,\n",
            "          0., 0., 0., 0., 0., 0., 0., 0., 0., 0., 0., 0., 0., 0., 0., 0., 0.,\n",
            "          0., 0., 0., 0., 0., 0., 0., 0., 0., 0., 0., 0., 0., 0., 0., 0., 0.,\n",
            "          0., 0., 0., 0., 0.]],\n",
            "\n",
            "        [[0., 0., 0., 0., 0., 0., 0., 0., 0., 0., 0., 0., 0., 0., 0., 0., 0.,\n",
            "          0., 0., 0., 0., 1., 0., 0., 0., 0., 0., 0., 0., 0., 0., 0., 0., 0.,\n",
            "          0., 0., 0., 0., 0., 0., 0., 0., 0., 0., 0., 0., 0., 0., 0., 0., 0.,\n",
            "          0., 0., 0., 0., 0.]]]), tensor([13])), ('Nezametdinov', 'Russian', tensor([[[0., 0., 0., 0., 0., 0., 0., 0., 0., 0., 0., 0., 0., 0., 0., 0., 0.,\n",
            "          0., 0., 0., 0., 0., 0., 0., 0., 0., 0., 0., 0., 0., 0., 0., 0., 0.,\n",
            "          0., 0., 0., 0., 0., 1., 0., 0., 0., 0., 0., 0., 0., 0., 0., 0., 0.,\n",
            "          0., 0., 0., 0., 0.]],\n",
            "\n",
            "        [[0., 0., 0., 0., 1., 0., 0., 0., 0., 0., 0., 0., 0., 0., 0., 0., 0.,\n",
            "          0., 0., 0., 0., 0., 0., 0., 0., 0., 0., 0., 0., 0., 0., 0., 0., 0.,\n",
            "          0., 0., 0., 0., 0., 0., 0., 0., 0., 0., 0., 0., 0., 0., 0., 0., 0.,\n",
            "          0., 0., 0., 0., 0.]],\n",
            "\n",
            "        [[0., 0., 0., 0., 0., 0., 0., 0., 0., 0., 0., 0., 0., 0., 0., 0., 0.,\n",
            "          0., 0., 0., 0., 0., 0., 0., 0., 1., 0., 0., 0., 0., 0., 0., 0., 0.,\n",
            "          0., 0., 0., 0., 0., 0., 0., 0., 0., 0., 0., 0., 0., 0., 0., 0., 0.,\n",
            "          0., 0., 0., 0., 0.]],\n",
            "\n",
            "        [[1., 0., 0., 0., 0., 0., 0., 0., 0., 0., 0., 0., 0., 0., 0., 0., 0.,\n",
            "          0., 0., 0., 0., 0., 0., 0., 0., 0., 0., 0., 0., 0., 0., 0., 0., 0.,\n",
            "          0., 0., 0., 0., 0., 0., 0., 0., 0., 0., 0., 0., 0., 0., 0., 0., 0.,\n",
            "          0., 0., 0., 0., 0.]],\n",
            "\n",
            "        [[0., 0., 0., 0., 0., 0., 0., 0., 0., 0., 0., 0., 1., 0., 0., 0., 0.,\n",
            "          0., 0., 0., 0., 0., 0., 0., 0., 0., 0., 0., 0., 0., 0., 0., 0., 0.,\n",
            "          0., 0., 0., 0., 0., 0., 0., 0., 0., 0., 0., 0., 0., 0., 0., 0., 0.,\n",
            "          0., 0., 0., 0., 0.]],\n",
            "\n",
            "        [[0., 0., 0., 0., 1., 0., 0., 0., 0., 0., 0., 0., 0., 0., 0., 0., 0.,\n",
            "          0., 0., 0., 0., 0., 0., 0., 0., 0., 0., 0., 0., 0., 0., 0., 0., 0.,\n",
            "          0., 0., 0., 0., 0., 0., 0., 0., 0., 0., 0., 0., 0., 0., 0., 0., 0.,\n",
            "          0., 0., 0., 0., 0.]],\n",
            "\n",
            "        [[0., 0., 0., 0., 0., 0., 0., 0., 0., 0., 0., 0., 0., 0., 0., 0., 0.,\n",
            "          0., 0., 1., 0., 0., 0., 0., 0., 0., 0., 0., 0., 0., 0., 0., 0., 0.,\n",
            "          0., 0., 0., 0., 0., 0., 0., 0., 0., 0., 0., 0., 0., 0., 0., 0., 0.,\n",
            "          0., 0., 0., 0., 0.]],\n",
            "\n",
            "        [[0., 0., 0., 1., 0., 0., 0., 0., 0., 0., 0., 0., 0., 0., 0., 0., 0.,\n",
            "          0., 0., 0., 0., 0., 0., 0., 0., 0., 0., 0., 0., 0., 0., 0., 0., 0.,\n",
            "          0., 0., 0., 0., 0., 0., 0., 0., 0., 0., 0., 0., 0., 0., 0., 0., 0.,\n",
            "          0., 0., 0., 0., 0.]],\n",
            "\n",
            "        [[0., 0., 0., 0., 0., 0., 0., 0., 1., 0., 0., 0., 0., 0., 0., 0., 0.,\n",
            "          0., 0., 0., 0., 0., 0., 0., 0., 0., 0., 0., 0., 0., 0., 0., 0., 0.,\n",
            "          0., 0., 0., 0., 0., 0., 0., 0., 0., 0., 0., 0., 0., 0., 0., 0., 0.,\n",
            "          0., 0., 0., 0., 0.]],\n",
            "\n",
            "        [[0., 0., 0., 0., 0., 0., 0., 0., 0., 0., 0., 0., 0., 1., 0., 0., 0.,\n",
            "          0., 0., 0., 0., 0., 0., 0., 0., 0., 0., 0., 0., 0., 0., 0., 0., 0.,\n",
            "          0., 0., 0., 0., 0., 0., 0., 0., 0., 0., 0., 0., 0., 0., 0., 0., 0.,\n",
            "          0., 0., 0., 0., 0.]],\n",
            "\n",
            "        [[0., 0., 0., 0., 0., 0., 0., 0., 0., 0., 0., 0., 0., 0., 1., 0., 0.,\n",
            "          0., 0., 0., 0., 0., 0., 0., 0., 0., 0., 0., 0., 0., 0., 0., 0., 0.,\n",
            "          0., 0., 0., 0., 0., 0., 0., 0., 0., 0., 0., 0., 0., 0., 0., 0., 0.,\n",
            "          0., 0., 0., 0., 0.]],\n",
            "\n",
            "        [[0., 0., 0., 0., 0., 0., 0., 0., 0., 0., 0., 0., 0., 0., 0., 0., 0.,\n",
            "          0., 0., 0., 0., 1., 0., 0., 0., 0., 0., 0., 0., 0., 0., 0., 0., 0.,\n",
            "          0., 0., 0., 0., 0., 0., 0., 0., 0., 0., 0., 0., 0., 0., 0., 0., 0.,\n",
            "          0., 0., 0., 0., 0.]]]), tensor([13])), ('Zhatkov', 'Russian', tensor([[[0., 0., 0., 0., 0., 0., 0., 0., 0., 0., 0., 0., 0., 0., 0., 0., 0.,\n",
            "          0., 0., 0., 0., 0., 0., 0., 0., 0., 0., 0., 0., 0., 0., 0., 0., 0.,\n",
            "          0., 0., 0., 0., 0., 0., 0., 0., 0., 0., 0., 0., 0., 0., 0., 0., 0.,\n",
            "          1., 0., 0., 0., 0.]],\n",
            "\n",
            "        [[0., 0., 0., 0., 0., 0., 0., 1., 0., 0., 0., 0., 0., 0., 0., 0., 0.,\n",
            "          0., 0., 0., 0., 0., 0., 0., 0., 0., 0., 0., 0., 0., 0., 0., 0., 0.,\n",
            "          0., 0., 0., 0., 0., 0., 0., 0., 0., 0., 0., 0., 0., 0., 0., 0., 0.,\n",
            "          0., 0., 0., 0., 0.]],\n",
            "\n",
            "        [[1., 0., 0., 0., 0., 0., 0., 0., 0., 0., 0., 0., 0., 0., 0., 0., 0.,\n",
            "          0., 0., 0., 0., 0., 0., 0., 0., 0., 0., 0., 0., 0., 0., 0., 0., 0.,\n",
            "          0., 0., 0., 0., 0., 0., 0., 0., 0., 0., 0., 0., 0., 0., 0., 0., 0.,\n",
            "          0., 0., 0., 0., 0.]],\n",
            "\n",
            "        [[0., 0., 0., 0., 0., 0., 0., 0., 0., 0., 0., 0., 0., 0., 0., 0., 0.,\n",
            "          0., 0., 1., 0., 0., 0., 0., 0., 0., 0., 0., 0., 0., 0., 0., 0., 0.,\n",
            "          0., 0., 0., 0., 0., 0., 0., 0., 0., 0., 0., 0., 0., 0., 0., 0., 0.,\n",
            "          0., 0., 0., 0., 0.]],\n",
            "\n",
            "        [[0., 0., 0., 0., 0., 0., 0., 0., 0., 0., 1., 0., 0., 0., 0., 0., 0.,\n",
            "          0., 0., 0., 0., 0., 0., 0., 0., 0., 0., 0., 0., 0., 0., 0., 0., 0.,\n",
            "          0., 0., 0., 0., 0., 0., 0., 0., 0., 0., 0., 0., 0., 0., 0., 0., 0.,\n",
            "          0., 0., 0., 0., 0.]],\n",
            "\n",
            "        [[0., 0., 0., 0., 0., 0., 0., 0., 0., 0., 0., 0., 0., 0., 1., 0., 0.,\n",
            "          0., 0., 0., 0., 0., 0., 0., 0., 0., 0., 0., 0., 0., 0., 0., 0., 0.,\n",
            "          0., 0., 0., 0., 0., 0., 0., 0., 0., 0., 0., 0., 0., 0., 0., 0., 0.,\n",
            "          0., 0., 0., 0., 0.]],\n",
            "\n",
            "        [[0., 0., 0., 0., 0., 0., 0., 0., 0., 0., 0., 0., 0., 0., 0., 0., 0.,\n",
            "          0., 0., 0., 0., 1., 0., 0., 0., 0., 0., 0., 0., 0., 0., 0., 0., 0.,\n",
            "          0., 0., 0., 0., 0., 0., 0., 0., 0., 0., 0., 0., 0., 0., 0., 0., 0.,\n",
            "          0., 0., 0., 0., 0.]]]), tensor([13])), ('Dobrushin', 'Russian', tensor([[[0., 0., 0., 0., 0., 0., 0., 0., 0., 0., 0., 0., 0., 0., 0., 0., 0.,\n",
            "          0., 0., 0., 0., 0., 0., 0., 0., 0., 0., 0., 0., 1., 0., 0., 0., 0.,\n",
            "          0., 0., 0., 0., 0., 0., 0., 0., 0., 0., 0., 0., 0., 0., 0., 0., 0.,\n",
            "          0., 0., 0., 0., 0.]],\n",
            "\n",
            "        [[0., 0., 0., 0., 0., 0., 0., 0., 0., 0., 0., 0., 0., 0., 1., 0., 0.,\n",
            "          0., 0., 0., 0., 0., 0., 0., 0., 0., 0., 0., 0., 0., 0., 0., 0., 0.,\n",
            "          0., 0., 0., 0., 0., 0., 0., 0., 0., 0., 0., 0., 0., 0., 0., 0., 0.,\n",
            "          0., 0., 0., 0., 0.]],\n",
            "\n",
            "        [[0., 1., 0., 0., 0., 0., 0., 0., 0., 0., 0., 0., 0., 0., 0., 0., 0.,\n",
            "          0., 0., 0., 0., 0., 0., 0., 0., 0., 0., 0., 0., 0., 0., 0., 0., 0.,\n",
            "          0., 0., 0., 0., 0., 0., 0., 0., 0., 0., 0., 0., 0., 0., 0., 0., 0.,\n",
            "          0., 0., 0., 0., 0.]],\n",
            "\n",
            "        [[0., 0., 0., 0., 0., 0., 0., 0., 0., 0., 0., 0., 0., 0., 0., 0., 0.,\n",
            "          1., 0., 0., 0., 0., 0., 0., 0., 0., 0., 0., 0., 0., 0., 0., 0., 0.,\n",
            "          0., 0., 0., 0., 0., 0., 0., 0., 0., 0., 0., 0., 0., 0., 0., 0., 0.,\n",
            "          0., 0., 0., 0., 0.]],\n",
            "\n",
            "        [[0., 0., 0., 0., 0., 0., 0., 0., 0., 0., 0., 0., 0., 0., 0., 0., 0.,\n",
            "          0., 0., 0., 1., 0., 0., 0., 0., 0., 0., 0., 0., 0., 0., 0., 0., 0.,\n",
            "          0., 0., 0., 0., 0., 0., 0., 0., 0., 0., 0., 0., 0., 0., 0., 0., 0.,\n",
            "          0., 0., 0., 0., 0.]],\n",
            "\n",
            "        [[0., 0., 0., 0., 0., 0., 0., 0., 0., 0., 0., 0., 0., 0., 0., 0., 0.,\n",
            "          0., 1., 0., 0., 0., 0., 0., 0., 0., 0., 0., 0., 0., 0., 0., 0., 0.,\n",
            "          0., 0., 0., 0., 0., 0., 0., 0., 0., 0., 0., 0., 0., 0., 0., 0., 0.,\n",
            "          0., 0., 0., 0., 0.]],\n",
            "\n",
            "        [[0., 0., 0., 0., 0., 0., 0., 1., 0., 0., 0., 0., 0., 0., 0., 0., 0.,\n",
            "          0., 0., 0., 0., 0., 0., 0., 0., 0., 0., 0., 0., 0., 0., 0., 0., 0.,\n",
            "          0., 0., 0., 0., 0., 0., 0., 0., 0., 0., 0., 0., 0., 0., 0., 0., 0.,\n",
            "          0., 0., 0., 0., 0.]],\n",
            "\n",
            "        [[0., 0., 0., 0., 0., 0., 0., 0., 1., 0., 0., 0., 0., 0., 0., 0., 0.,\n",
            "          0., 0., 0., 0., 0., 0., 0., 0., 0., 0., 0., 0., 0., 0., 0., 0., 0.,\n",
            "          0., 0., 0., 0., 0., 0., 0., 0., 0., 0., 0., 0., 0., 0., 0., 0., 0.,\n",
            "          0., 0., 0., 0., 0.]],\n",
            "\n",
            "        [[0., 0., 0., 0., 0., 0., 0., 0., 0., 0., 0., 0., 0., 1., 0., 0., 0.,\n",
            "          0., 0., 0., 0., 0., 0., 0., 0., 0., 0., 0., 0., 0., 0., 0., 0., 0.,\n",
            "          0., 0., 0., 0., 0., 0., 0., 0., 0., 0., 0., 0., 0., 0., 0., 0., 0.,\n",
            "          0., 0., 0., 0., 0.]]]), tensor([13])), ('Kobi', 'Japanese', tensor([[[0., 0., 0., 0., 0., 0., 0., 0., 0., 0., 0., 0., 0., 0., 0., 0., 0.,\n",
            "          0., 0., 0., 0., 0., 0., 0., 0., 0., 0., 0., 0., 0., 0., 0., 0., 0.,\n",
            "          0., 0., 1., 0., 0., 0., 0., 0., 0., 0., 0., 0., 0., 0., 0., 0., 0.,\n",
            "          0., 0., 0., 0., 0.]],\n",
            "\n",
            "        [[0., 0., 0., 0., 0., 0., 0., 0., 0., 0., 0., 0., 0., 0., 1., 0., 0.,\n",
            "          0., 0., 0., 0., 0., 0., 0., 0., 0., 0., 0., 0., 0., 0., 0., 0., 0.,\n",
            "          0., 0., 0., 0., 0., 0., 0., 0., 0., 0., 0., 0., 0., 0., 0., 0., 0.,\n",
            "          0., 0., 0., 0., 0.]],\n",
            "\n",
            "        [[0., 1., 0., 0., 0., 0., 0., 0., 0., 0., 0., 0., 0., 0., 0., 0., 0.,\n",
            "          0., 0., 0., 0., 0., 0., 0., 0., 0., 0., 0., 0., 0., 0., 0., 0., 0.,\n",
            "          0., 0., 0., 0., 0., 0., 0., 0., 0., 0., 0., 0., 0., 0., 0., 0., 0.,\n",
            "          0., 0., 0., 0., 0.]],\n",
            "\n",
            "        [[0., 0., 0., 0., 0., 0., 0., 0., 1., 0., 0., 0., 0., 0., 0., 0., 0.,\n",
            "          0., 0., 0., 0., 0., 0., 0., 0., 0., 0., 0., 0., 0., 0., 0., 0., 0.,\n",
            "          0., 0., 0., 0., 0., 0., 0., 0., 0., 0., 0., 0., 0., 0., 0., 0., 0.,\n",
            "          0., 0., 0., 0., 0.]]]), tensor([8])), ('Balahonsky', 'Russian', tensor([[[0., 0., 0., 0., 0., 0., 0., 0., 0., 0., 0., 0., 0., 0., 0., 0., 0.,\n",
            "          0., 0., 0., 0., 0., 0., 0., 0., 0., 0., 1., 0., 0., 0., 0., 0., 0.,\n",
            "          0., 0., 0., 0., 0., 0., 0., 0., 0., 0., 0., 0., 0., 0., 0., 0., 0.,\n",
            "          0., 0., 0., 0., 0.]],\n",
            "\n",
            "        [[1., 0., 0., 0., 0., 0., 0., 0., 0., 0., 0., 0., 0., 0., 0., 0., 0.,\n",
            "          0., 0., 0., 0., 0., 0., 0., 0., 0., 0., 0., 0., 0., 0., 0., 0., 0.,\n",
            "          0., 0., 0., 0., 0., 0., 0., 0., 0., 0., 0., 0., 0., 0., 0., 0., 0.,\n",
            "          0., 0., 0., 0., 0.]],\n",
            "\n",
            "        [[0., 0., 0., 0., 0., 0., 0., 0., 0., 0., 0., 1., 0., 0., 0., 0., 0.,\n",
            "          0., 0., 0., 0., 0., 0., 0., 0., 0., 0., 0., 0., 0., 0., 0., 0., 0.,\n",
            "          0., 0., 0., 0., 0., 0., 0., 0., 0., 0., 0., 0., 0., 0., 0., 0., 0.,\n",
            "          0., 0., 0., 0., 0.]],\n",
            "\n",
            "        [[1., 0., 0., 0., 0., 0., 0., 0., 0., 0., 0., 0., 0., 0., 0., 0., 0.,\n",
            "          0., 0., 0., 0., 0., 0., 0., 0., 0., 0., 0., 0., 0., 0., 0., 0., 0.,\n",
            "          0., 0., 0., 0., 0., 0., 0., 0., 0., 0., 0., 0., 0., 0., 0., 0., 0.,\n",
            "          0., 0., 0., 0., 0.]],\n",
            "\n",
            "        [[0., 0., 0., 0., 0., 0., 0., 1., 0., 0., 0., 0., 0., 0., 0., 0., 0.,\n",
            "          0., 0., 0., 0., 0., 0., 0., 0., 0., 0., 0., 0., 0., 0., 0., 0., 0.,\n",
            "          0., 0., 0., 0., 0., 0., 0., 0., 0., 0., 0., 0., 0., 0., 0., 0., 0.,\n",
            "          0., 0., 0., 0., 0.]],\n",
            "\n",
            "        [[0., 0., 0., 0., 0., 0., 0., 0., 0., 0., 0., 0., 0., 0., 1., 0., 0.,\n",
            "          0., 0., 0., 0., 0., 0., 0., 0., 0., 0., 0., 0., 0., 0., 0., 0., 0.,\n",
            "          0., 0., 0., 0., 0., 0., 0., 0., 0., 0., 0., 0., 0., 0., 0., 0., 0.,\n",
            "          0., 0., 0., 0., 0.]],\n",
            "\n",
            "        [[0., 0., 0., 0., 0., 0., 0., 0., 0., 0., 0., 0., 0., 1., 0., 0., 0.,\n",
            "          0., 0., 0., 0., 0., 0., 0., 0., 0., 0., 0., 0., 0., 0., 0., 0., 0.,\n",
            "          0., 0., 0., 0., 0., 0., 0., 0., 0., 0., 0., 0., 0., 0., 0., 0., 0.,\n",
            "          0., 0., 0., 0., 0.]],\n",
            "\n",
            "        [[0., 0., 0., 0., 0., 0., 0., 0., 0., 0., 0., 0., 0., 0., 0., 0., 0.,\n",
            "          0., 1., 0., 0., 0., 0., 0., 0., 0., 0., 0., 0., 0., 0., 0., 0., 0.,\n",
            "          0., 0., 0., 0., 0., 0., 0., 0., 0., 0., 0., 0., 0., 0., 0., 0., 0.,\n",
            "          0., 0., 0., 0., 0.]],\n",
            "\n",
            "        [[0., 0., 0., 0., 0., 0., 0., 0., 0., 0., 1., 0., 0., 0., 0., 0., 0.,\n",
            "          0., 0., 0., 0., 0., 0., 0., 0., 0., 0., 0., 0., 0., 0., 0., 0., 0.,\n",
            "          0., 0., 0., 0., 0., 0., 0., 0., 0., 0., 0., 0., 0., 0., 0., 0., 0.,\n",
            "          0., 0., 0., 0., 0.]],\n",
            "\n",
            "        [[0., 0., 0., 0., 0., 0., 0., 0., 0., 0., 0., 0., 0., 0., 0., 0., 0.,\n",
            "          0., 0., 0., 0., 0., 0., 0., 1., 0., 0., 0., 0., 0., 0., 0., 0., 0.,\n",
            "          0., 0., 0., 0., 0., 0., 0., 0., 0., 0., 0., 0., 0., 0., 0., 0., 0.,\n",
            "          0., 0., 0., 0., 0.]]]), tensor([13]))]\n"
          ],
          "name": "stdout"
        }
      ]
    },
    {
      "cell_type": "code",
      "metadata": {
        "id": "qF4Ku_AF7r13"
      },
      "source": [
        "def evaluate(net, n_pts,k, X_, Y_):\r\n",
        "  # Top_k accuracy measure:\r\n",
        "  net.eval()                                        #EVALUATION_MODE.\r\n",
        "  data = dataloader(n_pts, X_, Y_)                  #CHOOSING_POINTS DATA.\r\n",
        "  correct = 0\r\n",
        "  for name, nat, name_one, nat_r in data:\r\n",
        "    out = get_val(net,name)\r\n",
        "    values, indeces = out.topk(k)                   #CHECKING FOR TOP K VALUES.\r\n",
        "\r\n",
        "    if nat_r in indeces:\r\n",
        "      correct+=1\r\n",
        "  \r\n",
        "  acc = correct/n_pts\r\n",
        "  return acc\r\n"
      ],
      "execution_count": null,
      "outputs": []
    },
    {
      "cell_type": "code",
      "metadata": {
        "colab": {
          "base_uri": "https://localhost:8080/"
        },
        "id": "IZm3mwDyToKY",
        "outputId": "ed36c68c-178d-45f5-90e9-58c4b55f57c2"
      },
      "source": [
        "print(evaluate(net, 1000,2,X_test,Y_test))"
      ],
      "execution_count": null,
      "outputs": [
        {
          "output_type": "stream",
          "text": [
            "0.075\n"
          ],
          "name": "stdout"
        }
      ]
    },
    {
      "cell_type": "markdown",
      "metadata": {
        "id": "J1tqd9wJV_fQ"
      },
      "source": [
        ">https://stackoverflow.com/questions/46774641/what-does-the-parameter-retain-graph-mean-in-the-variables-backward-method\r\n",
        "\r\n",
        "For retain_graph = True."
      ]
    },
    {
      "cell_type": "code",
      "metadata": {
        "colab": {
          "base_uri": "https://localhost:8080/"
        },
        "id": "Sv31HdRyn911",
        "outputId": "f8ce4346-d3a3-44c3-9b75-7ee6c9da2f4c"
      },
      "source": [
        "from tqdm.notebook import tqdm_notebook\r\n",
        "len(nat)"
      ],
      "execution_count": null,
      "outputs": [
        {
          "output_type": "execute_result",
          "data": {
            "text/plain": [
              "18"
            ]
          },
          "metadata": {
            "tags": []
          },
          "execution_count": 25
        }
      ]
    },
    {
      "cell_type": "code",
      "metadata": {
        "id": "KeLjq6EUUBpM"
      },
      "source": [
        "def fit(net_ ,opt, loss_fn,b_s, n_points):   \r\n",
        "  # confusion_matrix[1][2]=1\r\n",
        "  k=0\r\n",
        "  loss_ = []\r\n",
        "  \r\n",
        "  for i in tqdm_notebook(range(b_s), total = b_s, unit= 'batch'):\r\n",
        "    \r\n",
        "    total = 0\r\n",
        "    \r\n",
        "    data = dataloader(n_points, X_train, Y_train)\r\n",
        "    opt.zero_grad()\r\n",
        "    \r\n",
        "    for name, nat, name_one, nat_r in data:\r\n",
        "    \r\n",
        "      hidden = net_.init_hidden()\r\n",
        "    \r\n",
        "      for p in range(name_one.size()[0]):                                  #Moving character_by_character.\r\n",
        "        out, hidden = net_.forward(name_one[p], hidden)  \r\n",
        "      \r\n",
        "      m = torch.argmax(out,axis=1)\r\n",
        "      j = nat_r\r\n",
        "\r\n",
        "      k+=1\r\n",
        "      confusion_matrix[j][m] +=1 \r\n",
        "    \r\n",
        "      loss = loss_fn(out, nat_r)\r\n",
        "      loss.backward(retain_graph = True)\r\n",
        "    \r\n",
        "      total += loss\r\n",
        "    \r\n",
        "    loss_.append( total/n_points )\r\n",
        "    opt.step()\r\n",
        "  print(k)\r\n",
        "  return loss_,k\r\n",
        "\r\n"
      ],
      "execution_count": null,
      "outputs": []
    },
    {
      "cell_type": "code",
      "metadata": {
        "id": "fyKK21DFcrvQ"
      },
      "source": [
        "# # opt = optim.SGD(net1.parameters(), lr= 0.01, momentum=0.01,weight_decay=0.05)\r\n",
        "# # loss = fit(net1 ,opt, loss_fn, 350, 10)\r\n",
        "\r\n",
        "# net1 = RNN_net(64, len(all_letters), len(nat))\r\n",
        "# loss_fn = nn.NLLLoss()\r\n",
        "# opt = optim.SGD(net1.parameters(), lr= 0.005, momentum=0.01,weight_decay=0.01)\r\n",
        "# loss = fit(net1 ,opt, loss_fn, 350, 25)\r\n",
        "\r\n",
        "# print(\"Loss: {} Accuracy_test: {} Accuracy_train: {}\".format(loss[-1],\r\n",
        "#       evaluate(net1,10,1,X_test,Y_text), evaluate(net1,10,1,X_train,Y_train)))\r\n",
        "\r\n",
        "# plt.figure()\r\n",
        "# plt.plot(loss)\r\n",
        "# plt.xlabel('Batchs')\r\n",
        "# plt.ylabel('Loss')\r\n",
        "# plt.show()"
      ],
      "execution_count": null,
      "outputs": []
    },
    {
      "cell_type": "code",
      "metadata": {
        "id": "FHsmv1hxvRIJ"
      },
      "source": [
        "def train_setup(n,opt_m = 'sgd', batches = 100, batch_size = 25, learning_rate = 0.005, mom = 0.01):\r\n",
        "  \r\n",
        "# opt = optim.SGD(net1.parameters(), lr= 0.01, momentum=0.01,weight_decay=0.05)\r\n",
        "# loss = fit(net1 ,opt, loss_fn, 350, 10)\r\n",
        "  loss_fn = nn.NLLLoss()  \r\n",
        "  if opt_m =='sgd':\r\n",
        "    opt = optim.SGD(n.parameters(), lr = learning_rate, momentum = mom,weight_decay=0.01)\r\n",
        "  \r\n",
        "  if opt_m == 'Adam':\r\n",
        "    opt = optim.Adam(n.parameters(), lr = learning_rate)\r\n",
        "  loss,k = fit(n ,opt, loss_fn, batches, batch_size)\r\n",
        "  \r\n",
        "  print(\"Loss: {} Accuracy_test: {} Accuracy_train: {}\".format(loss[-1],\r\n",
        "      evaluate(n,1000,1,X_test,Y_test), evaluate(n,1000,1,X_train,Y_train)))\r\n",
        "\r\n",
        "  plt.figure()\r\n",
        "  plt.plot(loss)\r\n",
        "  plt.xlabel('Batchs')\r\n",
        "  plt.ylabel('Loss')\r\n",
        "  plt.show()\r\n",
        "\r\n",
        "  \r\n",
        "  \r\n",
        "                      "
      ],
      "execution_count": null,
      "outputs": []
    },
    {
      "cell_type": "code",
      "metadata": {
        "colab": {
          "base_uri": "https://localhost:8080/",
          "height": 443,
          "referenced_widgets": [
            "99092aa9eb8b4c77a182f88e63444a91",
            "2239eacc55304a70a4100114c0b4ac0b",
            "7ba995f309094dad9c09133ee6054d1f",
            "f89886718f3a4e09a61d1f3a337dca20",
            "7a8239ce4d3a4d548d5b315577562f0c",
            "05b156f77aae457bbee5e1fa304683ff",
            "447452cbfdf14e36afd5fe5c6b89568f",
            "450718585e414c51b2e6ef733891810b"
          ]
        },
        "id": "y0OAAoZryiZC",
        "outputId": "f2a81992-f247-4a77-c9d2-fe0fcdcf2a28"
      },
      "source": [
        "net1 = RNN_net(64, len(all_letters), len(nat))\r\n",
        "confusion_matrix = np.zeros((len(nat) ,len(nat)))\r\n",
        "train_setup(net1,'Adam',batches = 500 ,batch_size =500 ,learning_rate = 0.0025 ,mom = 0.05)\r\n"
      ],
      "execution_count": null,
      "outputs": [
        {
          "output_type": "display_data",
          "data": {
            "application/vnd.jupyter.widget-view+json": {
              "model_id": "99092aa9eb8b4c77a182f88e63444a91",
              "version_minor": 0,
              "version_major": 2
            },
            "text/plain": [
              "HBox(children=(FloatProgress(value=0.0, max=500.0), HTML(value='')))"
            ]
          },
          "metadata": {
            "tags": []
          }
        },
        {
          "output_type": "stream",
          "text": [
            "\n",
            "250000\n",
            "Loss: 0.8094300627708435 Accuracy_test: 0.742 Accuracy_train: 0.751\n"
          ],
          "name": "stdout"
        },
        {
          "output_type": "display_data",
          "data": {
            "image/png": "[encoded data removed]",
            "text/plain": [
              "<Figure size 576x396 with 1 Axes>"
            ]
          },
          "metadata": {
            "tags": []
          }
        }
      ]
    },
    {
      "cell_type": "code",
      "metadata": {
        "colab": {
          "base_uri": "https://localhost:8080/",
          "height": 634
        },
        "id": "ZywBvbrAbZld",
        "outputId": "9a33ac9e-f547-47ab-a03b-70f23ab66e56"
      },
      "source": [
        "\r\n",
        "fig = plt.figure(figsize= (15,10))\r\n",
        "sns.heatmap(confusion_matrix, annot=True, fmt='.0f',xticklabels=nat, \r\n",
        "            yticklabels=nat,cmap='icefire');"
      ],
      "execution_count": null,
      "outputs": [
        {
          "output_type": "display_data",
          "data": {
            "image/png": "[encoded data removed]",
            "text/plain": [
              "<Figure size 1080x720 with 2 Axes>"
            ]
          },
          "metadata": {
            "tags": []
          }
        }
      ]
    },
    {
      "cell_type": "code",
      "metadata": {
        "colab": {
          "base_uri": "https://localhost:8080/"
        },
        "id": "p3tZb0szegs9",
        "outputId": "f50d4a1c-7130-4119-e748-bddd0a1e6622"
      },
      "source": [
        "total_ = confusion_matrix.sum()\r\n",
        "total_\r\n",
        "\r\n",
        "corr_ = 0\r\n",
        "for i in range(18):\r\n",
        "  for j in range(18):\r\n",
        "    if i == j:\r\n",
        "      corr_ += confusion_matrix[i][j]\r\n",
        "print(corr_)"
      ],
      "execution_count": null,
      "outputs": [
        {
          "output_type": "stream",
          "text": [
            "165933.0\n"
          ],
          "name": "stdout"
        }
      ]
    },
    {
      "cell_type": "code",
      "metadata": {
        "colab": {
          "base_uri": "https://localhost:8080/"
        },
        "id": "CoZzA6VayqJY",
        "outputId": "f950de9a-355f-4039-85c5-083158e0d2a6"
      },
      "source": [
        "print(evaluate(net1, 2500,1,X_test, Y_test));\r\n",
        "print(evaluate(net1, 2500,1,X_train, Y_train));"
      ],
      "execution_count": null,
      "outputs": [
        {
          "output_type": "stream",
          "text": [
            "0.7444\n",
            "0.7516\n"
          ],
          "name": "stdout"
        }
      ]
    },
    {
      "cell_type": "code",
      "metadata": {
        "colab": {
          "base_uri": "https://localhost:8080/",
          "height": 35
        },
        "id": "LpQGs0rdc5uv",
        "outputId": "28b7ff9e-b7f5-4399-d739-0c0a44a83c75"
      },
      "source": [
        "a = 'Bazzi'  \r\n",
        "lan = get_val(net1, a)\r\n",
        "nat[torch.argmax(lan, 1)]"
      ],
      "execution_count": null,
      "outputs": [
        {
          "output_type": "execute_result",
          "data": {
            "application/vnd.google.colaboratory.intrinsic+json": {
              "type": "string"
            },
            "text/plain": [
              "'Arabic'"
            ]
          },
          "metadata": {
            "tags": []
          },
          "execution_count": 33
        }
      ]
    },
    {
      "cell_type": "markdown",
      "metadata": {
        "id": "W9BkqurnmxP5"
      },
      "source": [
        "LSTM_Class"
      ]
    },
    {
      "cell_type": "code",
      "metadata": {
        "id": "7A7ubHxqkK0Z"
      },
      "source": [
        "class LSTM_net(nn.Module):\r\n",
        "  def __init__(self,hidden_size,input_size, output_size):\r\n",
        "    super(LSTM_net,self).__init__()\r\n",
        "    self.hidden = hidden_size\r\n",
        "    self.lstm_cell = nn.LSTM(input_size, hidden_size)\r\n",
        "    self.lstm_cell_2 = nn.LSTM(hidden_size, hidden_size)\r\n",
        "    self.i2o  = nn.Linear(hidden_size, output_size)\r\n",
        "    self.soft = nn.LogSoftmax(dim = 2)\r\n",
        "\r\n",
        "  def forward(self, input_, hidden_=None):\r\n",
        "    out_1, hidden = self.lstm_cell(input_.view(1,1,-1), hidden_)           #Sending_input into hidden cel\r\n",
        "    out_1, hidden = self.lstm_cell_2(hidden[0].view(1,1,-1), hidden_)   \r\n",
        "    out_1 = self.i2o(hidden[0])                           #Then, from lstm, we sent to hidden unit.\r\n",
        "    out = self.soft(out_1)\r\n",
        "\r\n",
        "    return out.view(1,-1), hidden             \r\n",
        "  \r\n",
        "  def init_hidden(self):\r\n",
        "    return torch.zeros(1,1,self.hidden), torch.zeros(1,1,self.hidden)             #These are initial 2 hidden_layer and input layer."
      ],
      "execution_count": null,
      "outputs": []
    },
    {
      "cell_type": "code",
      "metadata": {
        "colab": {
          "base_uri": "https://localhost:8080/",
          "height": 443,
          "referenced_widgets": [
            "95e73dd9f4c74ab09cb48f42de45ed93",
            "8964d4f6ff8346b4a8410c90127d8eb8",
            "1563a8a2fced4629b4a03375bd18b0e7",
            "3eb5f3f56d5b405782faccf299a29a97",
            "d6911ce5f5d9459abc4d1e9748eba4cc",
            "1e7a0aec03054301aafcb30a116eee71",
            "e7e446c171a94c43a2cd1e67304a01dc",
            "c061e524fc86431986053253aed54cc6"
          ]
        },
        "id": "cgju1HF9o9r7",
        "outputId": "e8251cd1-0d04-4356-f415-353a22516b4d"
      },
      "source": [
        "net2 = LSTM_net(64, len(all_letters), len(nat))\r\n",
        "train_setup(net2,'Adam',300,100,0.0001, 0.05)"
      ],
      "execution_count": null,
      "outputs": [
        {
          "output_type": "display_data",
          "data": {
            "application/vnd.jupyter.widget-view+json": {
              "model_id": "95e73dd9f4c74ab09cb48f42de45ed93",
              "version_minor": 0,
              "version_major": 2
            },
            "text/plain": [
              "HBox(children=(FloatProgress(value=0.0, max=300.0), HTML(value='')))"
            ]
          },
          "metadata": {
            "tags": []
          }
        },
        {
          "output_type": "stream",
          "text": [
            "\n",
            "30000\n",
            "Loss: 1.6471198797225952 Accuracy_test: 0.463 Accuracy_train: 0.457\n"
          ],
          "name": "stdout"
        },
        {
          "output_type": "display_data",
          "data": {
            "image/png": "[encoded data removed]",
            "text/plain": [
              "<Figure size 576x396 with 1 Axes>"
            ]
          },
          "metadata": {
            "tags": []
          }
        }
      ]
    },
    {
      "cell_type": "markdown",
      "metadata": {
        "id": "-hDyiVi8Hl7L"
      },
      "source": [
        "https://pytorch.org/docs/stable/generated/torch.nn.GRU.html#torch.nn.GRU\r\n",
        "#GRU"
      ]
    },
    {
      "cell_type": "code",
      "metadata": {
        "id": "Hlk_NxxMqmYi"
      },
      "source": [
        "class GRU_net(nn.Module):\r\n",
        "  \r\n",
        "  def __init__(self,hidden_size, input_size, output_size):\r\n",
        "    super(GRU_net,self).__init__()\r\n",
        "    self.hidden = hidden_size\r\n",
        "    self.gru_cell = nn.GRU(input_size, hidden_size)\r\n",
        "    self.i2o  = nn.Linear(hidden_size, output_size)\r\n",
        "    self.softmax = nn.LogSoftmax(dim=2)\r\n",
        "  \r\n",
        "\r\n",
        "  def forward(self, input_, hidden_):\r\n",
        "    out_, hidden = self.gru_cell(input_.view(1,1,-1), hidden_)\r\n",
        "    out  = self.i2o(hidden_)\r\n",
        "    out = self.softmax(out)\r\n",
        "\r\n",
        "    return out.view(1,-1), hidden_\r\n",
        "  \r\n",
        "  def init_hidden(self):\r\n",
        "    return torch.zeros(1,1,self.hidden)"
      ],
      "execution_count": null,
      "outputs": []
    },
    {
      "cell_type": "code",
      "metadata": {
        "colab": {
          "base_uri": "https://localhost:8080/",
          "height": 443,
          "referenced_widgets": [
            "dfe436fed4eb4db89b740a1b79d18a98",
            "4e5637b3fa36426abe4614feab4909ec",
            "6cb6733efdf74cfd85ba1a17e5914517",
            "eb654989ac394bc4af9b36556af26534",
            "80876ad2d3d946938ee3539bce05151e",
            "a982dc66f88d4f61bcbba368b34d908d",
            "982e7707a5864dc9949d61ad1c2010ac",
            "a2fcdd81a7e940c9bc84c0221badd4cd"
          ]
        },
        "id": "SPUhjjtOsyhN",
        "outputId": "627f693d-f907-4571-fcc8-67b7d6284ea1"
      },
      "source": [
        "net3 = GRU_net(128, len(all_letters), len(nat))\r\n",
        "train_setup(net3 ,'sgd', 200, 265, 0.0005, 0.01)"
      ],
      "execution_count": null,
      "outputs": [
        {
          "output_type": "display_data",
          "data": {
            "application/vnd.jupyter.widget-view+json": {
              "model_id": "dfe436fed4eb4db89b740a1b79d18a98",
              "version_minor": 0,
              "version_major": 2
            },
            "text/plain": [
              "HBox(children=(FloatProgress(value=0.0, max=200.0), HTML(value='')))"
            ]
          },
          "metadata": {
            "tags": []
          }
        },
        {
          "output_type": "stream",
          "text": [
            "\n",
            "53000\n",
            "Loss: 1.9771380424499512 Accuracy_test: 0.435 Accuracy_train: 0.463\n"
          ],
          "name": "stdout"
        },
        {
          "output_type": "display_data",
          "data": {
            "image/png": "[encoded data removed]",
            "text/plain": [
              "<Figure size 576x396 with 1 Axes>"
            ]
          },
          "metadata": {
            "tags": []
          }
        }
      ]
    },
    {
      "cell_type": "code",
      "metadata": {
        "colab": {
          "base_uri": "https://localhost:8080/"
        },
        "id": "E3yCoOx0KXoA",
        "outputId": "8fadc9da-8102-46ce-ddd5-6ad714d4fbf7"
      },
      "source": [
        "confusion_matrix[nat_rep('Russian')][nat_rep('Russian')] "
      ],
      "execution_count": null,
      "outputs": [
        {
          "output_type": "execute_result",
          "data": {
            "text/plain": [
              "142679.0"
            ]
          },
          "metadata": {
            "tags": []
          },
          "execution_count": 40
        }
      ]
    },
    {
      "cell_type": "markdown",
      "metadata": {
        "id": "nHo30iEJzljE"
      },
      "source": [
        "Batching:"
      ]
    },
    {
      "cell_type": "markdown",
      "metadata": {
        "id": "RqFwQm-h07DM"
      },
      "source": [
        "https://www.guvi.in/courses-video?course=dl_sequence_models#\r\n",
        "\r\n",
        "to under_stand the rep matrix size below, we can refer 2:59 image in above video."
      ]
    },
    {
      "cell_type": "code",
      "metadata": {
        "id": "blltdujtoL7k"
      },
      "source": [
        "def batched_name_rep(max_size, names): #Here, we are revcieving a batch of names!\r\n",
        "  rep = torch.zeros(max_size,len(names),len(all_letters)) #This is a padded square matrix representation with, different names.\r\n",
        "  for name_index, name in enumerate(names):\r\n",
        "    for letter_index, letter in enumerate(name):\r\n",
        "      pos = all_letters.find(letter)\r\n",
        "      rep[letter_index][name_index][pos] = 1\r\n",
        "  \r\n",
        "  return rep"
      ],
      "execution_count": null,
      "outputs": []
    },
    {
      "cell_type": "markdown",
      "metadata": {
        "id": "4qQFRDkt1Ztu"
      },
      "source": [
        "Visualise the character representation names in above function."
      ]
    },
    {
      "cell_type": "code",
      "metadata": {
        "id": "8OkgVVC10rIE"
      },
      "source": [
        "def char_name(name_reps):\r\n",
        "  names = name_reps.view((-1, name_reps.size()[-1])) #retain the last dimension, and collapse everything into single vector.\r\n",
        "  for char in names:\r\n",
        "    if torch.sum(char)==0:\r\n",
        "      print(\"<pad>\")\r\n",
        "    else:\r\n",
        "      char_arg = char.argmax()\r\n",
        "      print(all_letters[char_arg])"
      ],
      "execution_count": null,
      "outputs": []
    },
    {
      "cell_type": "code",
      "metadata": {
        "id": "mKUd8MMc2By0"
      },
      "source": [
        "name_reps = batched_name_rep(6,['Akshit','jhon'])"
      ],
      "execution_count": null,
      "outputs": []
    },
    {
      "cell_type": "code",
      "metadata": {
        "colab": {
          "base_uri": "https://localhost:8080/"
        },
        "id": "aSJwr5j02M5q",
        "outputId": "15cbc4cd-d472-4953-c2b3-ea2f2e7b5358"
      },
      "source": [
        "\r\n",
        "name_reps.shape"
      ],
      "execution_count": null,
      "outputs": [
        {
          "output_type": "execute_result",
          "data": {
            "text/plain": [
              "torch.Size([6, 2, 56])"
            ]
          },
          "metadata": {
            "tags": []
          },
          "execution_count": 47
        }
      ]
    },
    {
      "cell_type": "code",
      "metadata": {
        "colab": {
          "base_uri": "https://localhost:8080/"
        },
        "id": "cHuQrh2y2OJ3",
        "outputId": "eb458414-0bd0-494d-b7ab-d6fc26664413"
      },
      "source": [
        "print(name_reps)\r\n",
        "print(name_reps.shape)\r\n",
        "char_name(name_reps)"
      ],
      "execution_count": null,
      "outputs": [
        {
          "output_type": "stream",
          "text": [
            "tensor([[[0., 0., 0., 0., 0., 0., 0., 0., 0., 0., 0., 0., 0., 0., 0., 0., 0.,\n",
            "          0., 0., 0., 0., 0., 0., 0., 0., 0., 1., 0., 0., 0., 0., 0., 0., 0.,\n",
            "          0., 0., 0., 0., 0., 0., 0., 0., 0., 0., 0., 0., 0., 0., 0., 0., 0.,\n",
            "          0., 0., 0., 0., 0.],\n",
            "         [0., 0., 0., 0., 0., 0., 0., 0., 0., 1., 0., 0., 0., 0., 0., 0., 0.,\n",
            "          0., 0., 0., 0., 0., 0., 0., 0., 0., 0., 0., 0., 0., 0., 0., 0., 0.,\n",
            "          0., 0., 0., 0., 0., 0., 0., 0., 0., 0., 0., 0., 0., 0., 0., 0., 0.,\n",
            "          0., 0., 0., 0., 0.]],\n",
            "\n",
            "        [[0., 0., 0., 0., 0., 0., 0., 0., 0., 0., 1., 0., 0., 0., 0., 0., 0.,\n",
            "          0., 0., 0., 0., 0., 0., 0., 0., 0., 0., 0., 0., 0., 0., 0., 0., 0.,\n",
            "          0., 0., 0., 0., 0., 0., 0., 0., 0., 0., 0., 0., 0., 0., 0., 0., 0.,\n",
            "          0., 0., 0., 0., 0.],\n",
            "         [0., 0., 0., 0., 0., 0., 0., 1., 0., 0., 0., 0., 0., 0., 0., 0., 0.,\n",
            "          0., 0., 0., 0., 0., 0., 0., 0., 0., 0., 0., 0., 0., 0., 0., 0., 0.,\n",
            "          0., 0., 0., 0., 0., 0., 0., 0., 0., 0., 0., 0., 0., 0., 0., 0., 0.,\n",
            "          0., 0., 0., 0., 0.]],\n",
            "\n",
            "        [[0., 0., 0., 0., 0., 0., 0., 0., 0., 0., 0., 0., 0., 0., 0., 0., 0.,\n",
            "          0., 1., 0., 0., 0., 0., 0., 0., 0., 0., 0., 0., 0., 0., 0., 0., 0.,\n",
            "          0., 0., 0., 0., 0., 0., 0., 0., 0., 0., 0., 0., 0., 0., 0., 0., 0.,\n",
            "          0., 0., 0., 0., 0.],\n",
            "         [0., 0., 0., 0., 0., 0., 0., 0., 0., 0., 0., 0., 0., 0., 1., 0., 0.,\n",
            "          0., 0., 0., 0., 0., 0., 0., 0., 0., 0., 0., 0., 0., 0., 0., 0., 0.,\n",
            "          0., 0., 0., 0., 0., 0., 0., 0., 0., 0., 0., 0., 0., 0., 0., 0., 0.,\n",
            "          0., 0., 0., 0., 0.]],\n",
            "\n",
            "        [[0., 0., 0., 0., 0., 0., 0., 1., 0., 0., 0., 0., 0., 0., 0., 0., 0.,\n",
            "          0., 0., 0., 0., 0., 0., 0., 0., 0., 0., 0., 0., 0., 0., 0., 0., 0.,\n",
            "          0., 0., 0., 0., 0., 0., 0., 0., 0., 0., 0., 0., 0., 0., 0., 0., 0.,\n",
            "          0., 0., 0., 0., 0.],\n",
            "         [0., 0., 0., 0., 0., 0., 0., 0., 0., 0., 0., 0., 0., 1., 0., 0., 0.,\n",
            "          0., 0., 0., 0., 0., 0., 0., 0., 0., 0., 0., 0., 0., 0., 0., 0., 0.,\n",
            "          0., 0., 0., 0., 0., 0., 0., 0., 0., 0., 0., 0., 0., 0., 0., 0., 0.,\n",
            "          0., 0., 0., 0., 0.]],\n",
            "\n",
            "        [[0., 0., 0., 0., 0., 0., 0., 0., 1., 0., 0., 0., 0., 0., 0., 0., 0.,\n",
            "          0., 0., 0., 0., 0., 0., 0., 0., 0., 0., 0., 0., 0., 0., 0., 0., 0.,\n",
            "          0., 0., 0., 0., 0., 0., 0., 0., 0., 0., 0., 0., 0., 0., 0., 0., 0.,\n",
            "          0., 0., 0., 0., 0.],\n",
            "         [0., 0., 0., 0., 0., 0., 0., 0., 0., 0., 0., 0., 0., 0., 0., 0., 0.,\n",
            "          0., 0., 0., 0., 0., 0., 0., 0., 0., 0., 0., 0., 0., 0., 0., 0., 0.,\n",
            "          0., 0., 0., 0., 0., 0., 0., 0., 0., 0., 0., 0., 0., 0., 0., 0., 0.,\n",
            "          0., 0., 0., 0., 0.]],\n",
            "\n",
            "        [[0., 0., 0., 0., 0., 0., 0., 0., 0., 0., 0., 0., 0., 0., 0., 0., 0.,\n",
            "          0., 0., 1., 0., 0., 0., 0., 0., 0., 0., 0., 0., 0., 0., 0., 0., 0.,\n",
            "          0., 0., 0., 0., 0., 0., 0., 0., 0., 0., 0., 0., 0., 0., 0., 0., 0.,\n",
            "          0., 0., 0., 0., 0.],\n",
            "         [0., 0., 0., 0., 0., 0., 0., 0., 0., 0., 0., 0., 0., 0., 0., 0., 0.,\n",
            "          0., 0., 0., 0., 0., 0., 0., 0., 0., 0., 0., 0., 0., 0., 0., 0., 0.,\n",
            "          0., 0., 0., 0., 0., 0., 0., 0., 0., 0., 0., 0., 0., 0., 0., 0., 0.,\n",
            "          0., 0., 0., 0., 0.]]])\n",
            "torch.Size([6, 2, 56])\n",
            "A\n",
            "j\n",
            "k\n",
            "h\n",
            "s\n",
            "o\n",
            "h\n",
            "n\n",
            "i\n",
            "<pad>\n",
            "t\n",
            "<pad>\n"
          ],
          "name": "stdout"
        }
      ]
    },
    {
      "cell_type": "code",
      "metadata": {
        "id": "ixQfatPS3OLf"
      },
      "source": [
        "def batched_nat_rep(nats):\r\n",
        "  rep = torch.zeros(len(nats),dtype=torch.long)\r\n",
        "  for index, n in enumerate(nats):\r\n",
        "    rep[index] = nat.index(n) \r\n",
        "  \r\n",
        "  return rep"
      ],
      "execution_count": null,
      "outputs": []
    },
    {
      "cell_type": "code",
      "metadata": {
        "colab": {
          "base_uri": "https://localhost:8080/"
        },
        "id": "GXPVNzET3R95",
        "outputId": "2f65b957-2640-48b1-f108-f8352016dc9a"
      },
      "source": [
        "print(batched_nat_rep(nat))"
      ],
      "execution_count": null,
      "outputs": [
        {
          "output_type": "stream",
          "text": [
            "tensor([ 0.,  1.,  2.,  3.,  4.,  5.,  6.,  7.,  8.,  9., 10., 11., 12., 13.,\n",
            "        14., 15., 16., 17.])\n"
          ],
          "name": "stdout"
        }
      ]
    },
    {
      "cell_type": "markdown",
      "metadata": {
        "id": "P524hKq74I3M"
      },
      "source": [
        "Above, we did paddding. Padded instance is nothing but an all 0 tensor!"
      ]
    },
    {
      "cell_type": "code",
      "metadata": {
        "id": "tMH34KGy39_s"
      },
      "source": [
        "def batched_dataloader(n_points, X_, Y_, verbos=False, device = 'cpu'):\r\n",
        "  names = []                                    #List containing names.\r\n",
        "  nat = []                                      #Containing corrosponding nationalities\r\n",
        "  len_names = []                                # This is the length of names. The maximum name length is required while padding-packing. Thus done.\r\n",
        "  \r\n",
        "  for i in range(n_points):                     #Now, we iterate n_points:                             \r\n",
        "    n = np.random.randint(len(X_))              #select a random index, for sampeling name.\r\n",
        "    name, nat_  = X_[n], Y_[n]                  #selecting name\r\n",
        "    names.append(name)\r\n",
        "    nat.append(nat_)\r\n",
        "    len_names.append(len(name))\r\n",
        "\r\n",
        "  name_batched_rep = batched_name_rep(max(len_names),names).to(device) #Then, creating the batched, packed padded representation of names.\r\n",
        "  nat_batched_rep = batched_nat_rep(nat).to(device)                    #Similarly nationality \r\n",
        "\r\n",
        "  padded_packed_name_rep = torch.nn.utils.rnn.pack_padded_sequence(name_batched_rep, len_names, enforce_sorted=False)#Packs a Tensor containing padded sequences of variable length. \r\n",
        "                                            #Padding and Packing of Inputs\r\n",
        "  #Verbosing the data\r\n",
        "\r\n",
        "  if verbos:\r\n",
        "    print(len(names))\r\n",
        "    print(name_batched_rep.shape,padded_packed_name_rep.data.shape)\r\n",
        "    print('-------')\r\n",
        "\r\n",
        "    print(names)\r\n",
        "    print(char_name(name_batched_rep))\r\n",
        "    print('-------')\r\n",
        "\r\n",
        "    print(\"After Packing__________:\")\r\n",
        "    char_name(padded_packed_name_rep.data)\r\n",
        "    print('nationality_representation', nat_batched_rep.int())\r\n",
        "    print('Batch sizes', padded_packed_name_rep.batch_sizes)\r\n",
        "\r\n",
        "  return padded_packed_name_rep.to(device), nat_batched_rep\r\n"
      ],
      "execution_count": null,
      "outputs": []
    },
    {
      "cell_type": "code",
      "metadata": {
        "id": "iYM7Em1gcO1r"
      },
      "source": [
        "a, b = batched_dataloader(2,X_train,Y_train,False,'cuda:0')"
      ],
      "execution_count": null,
      "outputs": []
    },
    {
      "cell_type": "code",
      "metadata": {
        "id": "FkPVz-1ecPU3"
      },
      "source": [
        "def train_batch(net, opt, loss_fn, n_points, device= 'cpu'):\r\n",
        "\r\n",
        "  net = net.train().to(device)\r\n",
        "  opt.zero_grad()\r\n",
        "  \r\n",
        "  train_batch, nat_true = batched_dataloader(n_points, X_train, Y_train, False, device)\r\n",
        "\r\n",
        "  out_, hidden_ = net(train_batch)\r\n",
        "\r\n",
        "  nat_true = nat_true.to(device)\r\n",
        "  loss = loss_fn(out_, nat_true)\r\n",
        "\r\n",
        "  loss.backward()\r\n",
        "  opt.step()\r\n",
        "\r\n",
        "  return loss\r\n"
      ],
      "execution_count": null,
      "outputs": []
    },
    {
      "cell_type": "code",
      "metadata": {
        "id": "6jORYkbHtX33"
      },
      "source": [
        "class RNN_net(nn.Module):\r\n",
        "    def __init__(self, input_size, hidden_size, output_size):\r\n",
        "        super(RNN_net, self).__init__()\r\n",
        "        self.hidden_size = hidden_size\r\n",
        "        self.rnn_cell = nn.RNN(input_size, hidden_size)\r\n",
        "        self.h2o = nn.Linear(hidden_size, output_size)\r\n",
        "        self.softmax = nn.LogSoftmax(dim=1)\r\n",
        "    \r\n",
        "    def forward(self, input_, hidden = None, batch_size = 1):\r\n",
        "        out, hidden = self.rnn_cell(input_, hidden)\r\n",
        "        output = self.h2o(hidden.view(-1, self.hidden_size))\r\n",
        "        output = self.softmax(output)\r\n",
        "        return output, hidden\r\n",
        "    \r\n",
        "    def init_hidden(self, batch_size = 1):\r\n",
        "        return torch.zeros(1, batch_size, self.hidden_size)"
      ],
      "execution_count": null,
      "outputs": []
    },
    {
      "cell_type": "code",
      "metadata": {
        "id": "B_vM4OVnAkI7"
      },
      "source": [
        "def get_val_batch(net, name, device = 'cpu'):\r\n",
        "  \r\n",
        "  name = name_rep(name).to(device)\r\n",
        "  out, hidden = net.forward(name)\r\n",
        "\r\n",
        "  if type(hidden) is tuple:\r\n",
        "    hidden = hidden[0]\r\n",
        "  \r\n",
        "  index = torch.argmax(hidden)\r\n",
        "\r\n",
        "  return out"
      ],
      "execution_count": null,
      "outputs": []
    },
    {
      "cell_type": "code",
      "metadata": {
        "id": "WKe7WZQ3oSL4"
      },
      "source": [
        "def evaluate_batch(net,n_points, X_, Y_,k=1, device = 'cpu'):\r\n",
        "\r\n",
        "  net.eval().to(device)\r\n",
        "  data = dataloader(n_points, X_, Y_)\r\n",
        "  correct = 0\r\n",
        "  \r\n",
        "  for name, nat, name_rep, nat_rep in data:\r\n",
        "  \r\n",
        "    nat_rep = nat_rep.to(device)\r\n",
        "    out = get_val_batch(net, name, 'cuda:0')\r\n",
        "    values, ind = out.topk(k)\r\n",
        "    ind = ind.to(device)\r\n",
        "\r\n",
        "    if nat_rep in ind:\r\n",
        "      correct+=1\r\n",
        "  \r\n",
        "  return correct/n_points\r\n",
        "\r\n"
      ],
      "execution_count": null,
      "outputs": []
    },
    {
      "cell_type": "code",
      "metadata": {
        "id": "ae301H7aolrM"
      },
      "source": [
        "# net  = RNN_net_1(len(all_letters),128, len(nat))\r\n",
        "# loss_fn = nn.NLLLoss()\r\n",
        "# opt = optim.SGD(net.parameters(), lr = 0.1, momentum = 0.5)"
      ],
      "execution_count": null,
      "outputs": []
    },
    {
      "cell_type": "code",
      "metadata": {
        "id": "JK_CizBmvqs9"
      },
      "source": [
        "# train_setup(net,'sgd',100,25,0.005,0.1)"
      ],
      "execution_count": null,
      "outputs": []
    },
    {
      "cell_type": "code",
      "metadata": {
        "id": "uGV1iywZw-ag"
      },
      "source": [
        "def train_setup_batch(net,epochs=100,batch_size = 256,hidde_size=128, lr=0.1, m = 0.5, device='cpu'):\r\n",
        "  \r\n",
        "  \r\n",
        "  loss_fn = nn.NLLLoss()\r\n",
        "  opt = optim.SGD(net.parameters(), lr = lr, momentum = m)\r\n",
        "  \r\n",
        "  loss = []\r\n",
        "\r\n",
        "  for i in tqdm_notebook(range(epochs), total = epochs, unit = 'epoch'):\r\n",
        "    loss.append(train_batch(net, opt, loss_fn, batch_size, device))\r\n",
        "  \r\n",
        "  plt.figure(figsize=(10,5))\r\n",
        "  plt.plot(loss,'-r')\r\n",
        "  plt.xlabel('epochs')\r\n",
        "  plt.show()\r\n",
        "\r\n",
        "  return loss"
      ],
      "execution_count": null,
      "outputs": []
    },
    {
      "cell_type": "code",
      "metadata": {
        "colab": {
          "base_uri": "https://localhost:8080/",
          "height": 383,
          "referenced_widgets": [
            "27941836341f44b697bae9771b903a49",
            "a9fb14ade58d4eb08aa4dc38466e5f67",
            "cceb96637780486798f17b7cb915ccdd",
            "9538bcb804fb4e9bacb276cd54e50111",
            "f0b2db34e4f54dde8f7b412fec4e3871",
            "967d043bb7994a6696798b56f6312499",
            "b09b28e1edc243809930a86e664b89af",
            "6dfc5a7192774ae497c7e7429b60013d"
          ]
        },
        "id": "pyOEiTITywVL",
        "outputId": "5c2e211c-0181-435e-bdad-a9c76398dc65"
      },
      "source": [
        "epochs=3000\r\n",
        "lr = 0.1\r\n",
        "m=0.5 \r\n",
        "hidden_size=128\r\n",
        "batch_size = 512\r\n",
        "\r\n",
        "net  = RNN_net(len(all_letters),hidden_size, len(nat))\r\n",
        "loss_ = train_setup_batch(net,epochs, batch_size, hidden_size, lr, m, 'cuda:0')"
      ],
      "execution_count": null,
      "outputs": [
        {
          "output_type": "display_data",
          "data": {
            "application/vnd.jupyter.widget-view+json": {
              "model_id": "27941836341f44b697bae9771b903a49",
              "version_minor": 0,
              "version_major": 2
            },
            "text/plain": [
              "HBox(children=(FloatProgress(value=0.0, max=3000.0), HTML(value='')))"
            ]
          },
          "metadata": {
            "tags": []
          }
        },
        {
          "output_type": "stream",
          "text": [
            "\n"
          ],
          "name": "stdout"
        },
        {
          "output_type": "display_data",
          "data": {
            "image/png": "[encoded data removed]",
            "text/plain": [
              "<Figure size 720x360 with 1 Axes>"
            ]
          },
          "metadata": {
            "tags": []
          }
        }
      ]
    },
    {
      "cell_type": "code",
      "metadata": {
        "id": "9yL4tOGny39d"
      },
      "source": [
        "# net2 = LSTM_net(hidden_size, len(all_letters),len(nat))\r\n",
        "# train_setup_batch(net2,epochs, batch_size, hidden_size, lr, m, 'cuda:0')"
      ],
      "execution_count": null,
      "outputs": []
    },
    {
      "cell_type": "code",
      "metadata": {
        "colab": {
          "base_uri": "https://localhost:8080/"
        },
        "id": "GQ7_nat30d6l",
        "outputId": "d6f8872b-e5b6-4ece-c284-20cd4fac06c6"
      },
      "source": [
        "evaluate_batch(len(X_test),X_test, Y_test, 1, 'cuda:0')"
      ],
      "execution_count": null,
      "outputs": [
        {
          "output_type": "execute_result",
          "data": {
            "text/plain": [
              "0.7614678899082569"
            ]
          },
          "metadata": {
            "tags": []
          },
          "execution_count": 272
        }
      ]
    },
    {
      "cell_type": "code",
      "metadata": {
        "id": "VgYG4z1o1RDk"
      },
      "source": [
        "class LSTM_net_2(nn.Module):\r\n",
        "  def __init__(self,hidden_size,input_size, output_size):\r\n",
        "    super(LSTM_net_2,self).__init__()\r\n",
        "    self.hidden = hidden_size\r\n",
        "    self.lstm_cell = nn.LSTM(input_size, hidden_size)\r\n",
        "    self.i2o  = nn.Linear(hidden_size, output_size)\r\n",
        "    self.soft = nn.LogSoftmax(dim = 1)\r\n",
        "\r\n",
        "  def forward(self, input_, hidden_=None):\r\n",
        "    out_1, hidden = self.lstm_cell(input_, hidden_)           #Sending_input into hidden cel\r\n",
        "    out_1 = self.i2o(hidden[0].view(-1, self.hidden))                           #Then, from lstm, we sent to hidden unit.\r\n",
        "    out = self.soft(out_1)\r\n",
        "\r\n",
        "    return out, hidden             \r\n",
        "  \r\n",
        "  def init_hidden(self, batch_size=1):\r\n",
        "    return torch.zeros(1,batch_size,self.hidden), torch.zeros(1,batch_size,self.hidden)             #These are initial 2 hidden_layer and input layer."
      ],
      "execution_count": null,
      "outputs": []
    },
    {
      "cell_type": "code",
      "metadata": {
        "id": "cDxatOPQFUka"
      },
      "source": [
        "epochs=3000\r\n",
        "lr = 0.1\r\n",
        "m=0.5 \r\n",
        "hidden_size=128\r\n",
        "batch_size = 512\r\n",
        "\r\n",
        "net2 = LSTM_net_2(hidden_size, len(all_letters),len(nat))\r\n",
        "loss_ = train_setup_batch(net2,epochs, batch_size, hidden_size, lr, m, 'cuda:0')"
      ],
      "execution_count": null,
      "outputs": []
    },
    {
      "cell_type": "code",
      "metadata": {
        "colab": {
          "base_uri": "https://localhost:8080/"
        },
        "id": "xMfic7isFXfu",
        "outputId": "2610f87b-67f8-48a1-d2e0-0e06fea4d6ae"
      },
      "source": [
        "evaluate_batch(net2,len(X_test),X_test, Y_test, 1, 'cuda:0')"
      ],
      "execution_count": null,
      "outputs": [
        {
          "output_type": "execute_result",
          "data": {
            "text/plain": [
              "0.759872357399282"
            ]
          },
          "metadata": {
            "tags": []
          },
          "execution_count": 289
        }
      ]
    }
  ]
}